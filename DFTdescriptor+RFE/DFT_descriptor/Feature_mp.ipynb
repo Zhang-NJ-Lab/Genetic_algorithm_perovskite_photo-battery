{
 "cells": [
  {
   "cell_type": "code",
   "execution_count": 1,
   "id": "76b3f0bb-32d9-4ca0-8c15-f0aca25571fd",
   "metadata": {
    "tags": []
   },
   "outputs": [
    {
     "name": "stderr",
     "output_type": "stream",
     "text": [
      "C:\\Users\\DELL\\AppData\\Local\\Temp\\ipykernel_4272\\1564717787.py:4: DeprecationWarning: Accessing similarity data through MPRester.similarity is deprecated. Please use MPRester.materials.similarity instead.\n",
      "  similarity_doc = mpr.similarity.get_data_by_id(\"mp-1138\")\n"
     ]
    },
    {
     "data": {
      "application/vnd.jupyter.widget-view+json": {
       "model_id": "c8751dcb5d8a479faf2a3ca48e21b430",
       "version_major": 2,
       "version_minor": 0
      },
      "text/plain": [
       "Retrieving SimilarityDoc documents:   0%|          | 0/1 [00:00<?, ?it/s]"
      ]
     },
     "metadata": {},
     "output_type": "display_data"
    }
   ],
   "source": [
    "from mp_api.client import MPRester\n",
    "\n",
    "with MPRester(api_key=\"foqWelVbBoixU9suS6DAz6xg7RASqTVq\") as mpr:\n",
    "    similarity_doc = mpr.similarity.get_data_by_id(\"mp-1138\")"
   ]
  },
  {
   "cell_type": "code",
   "execution_count": 32,
   "id": "e47b09e1-31ee-4d72-ac6f-e776519fa90d",
   "metadata": {
    "tags": []
   },
   "outputs": [
    {
     "name": "stderr",
     "output_type": "stream",
     "text": [
      "C:\\Users\\DELL\\AppData\\Local\\Temp\\ipykernel_4272\\2212577088.py:2: DeprecationWarning: Accessing summary data through MPRester.summary is deprecated. Please use MPRester.materials.summary instead.\n",
      "  docs = mpr.summary.search(material_ids=[\"mp-1138\"])\n"
     ]
    },
    {
     "data": {
      "application/vnd.jupyter.widget-view+json": {
       "model_id": "a995869ed082455f8132cf0578de3c8f",
       "version_major": 2,
       "version_minor": 0
      },
      "text/plain": [
       "Retrieving SummaryDoc documents:   0%|          | 0/1 [00:00<?, ?it/s]"
      ]
     },
     "metadata": {},
     "output_type": "display_data"
    }
   ],
   "source": [
    "with MPRester(\"foqWelVbBoixU9suS6DAz6xg7RASqTVq\") as mpr:\n",
    "    docs = mpr.summary.search(material_ids=[\"mp-1138\"])\n",
    "doc = docs[0]\n",
    "mpid = example_doc.material_id\n",
    "formula = example_doc.formula_pretty"
   ]
  },
  {
   "cell_type": "code",
   "execution_count": 44,
   "id": "08c8ec39-ab43-4e7d-aa6a-6663981f6b18",
   "metadata": {
    "tags": []
   },
   "outputs": [
    {
     "data": {
      "text/plain": [
       "'LiF'"
      ]
     },
     "execution_count": 44,
     "metadata": {},
     "output_type": "execute_result"
    }
   ],
   "source": [
    "doc.formula_pretty"
   ]
  },
  {
   "cell_type": "code",
   "execution_count": 14,
   "id": "eb0ebea5-8157-4fe0-81fc-62a6589b6584",
   "metadata": {
    "scrolled": true,
    "tags": []
   },
   "outputs": [
    {
     "name": "stderr",
     "output_type": "stream",
     "text": [
      "C:\\Users\\DELL\\AppData\\Local\\Temp\\ipykernel_4272\\2406210983.py:1: DeprecationWarning: Accessing summary data through MPRester.summary is deprecated. Please use MPRester.materials.summary instead.\n",
      "  list_of_available_fields = mpr.summary.available_fields\n"
     ]
    },
    {
     "data": {
      "text/plain": [
       "['builder_meta',\n",
       " 'nsites',\n",
       " 'elements',\n",
       " 'nelements',\n",
       " 'composition',\n",
       " 'composition_reduced',\n",
       " 'formula_pretty',\n",
       " 'formula_anonymous',\n",
       " 'chemsys',\n",
       " 'volume',\n",
       " 'density',\n",
       " 'density_atomic',\n",
       " 'symmetry',\n",
       " 'property_name',\n",
       " 'material_id',\n",
       " 'deprecated',\n",
       " 'deprecation_reasons',\n",
       " 'last_updated',\n",
       " 'origins',\n",
       " 'warnings',\n",
       " 'structure',\n",
       " 'task_ids',\n",
       " 'uncorrected_energy_per_atom',\n",
       " 'energy_per_atom',\n",
       " 'formation_energy_per_atom',\n",
       " 'energy_above_hull',\n",
       " 'is_stable',\n",
       " 'equilibrium_reaction_energy_per_atom',\n",
       " 'decomposes_to',\n",
       " 'xas',\n",
       " 'grain_boundaries',\n",
       " 'band_gap',\n",
       " 'cbm',\n",
       " 'vbm',\n",
       " 'efermi',\n",
       " 'is_gap_direct',\n",
       " 'is_metal',\n",
       " 'es_source_calc_id',\n",
       " 'bandstructure',\n",
       " 'dos',\n",
       " 'dos_energy_up',\n",
       " 'dos_energy_down',\n",
       " 'is_magnetic',\n",
       " 'ordering',\n",
       " 'total_magnetization',\n",
       " 'total_magnetization_normalized_vol',\n",
       " 'total_magnetization_normalized_formula_units',\n",
       " 'num_magnetic_sites',\n",
       " 'num_unique_magnetic_sites',\n",
       " 'types_of_magnetic_species',\n",
       " 'bulk_modulus',\n",
       " 'shear_modulus',\n",
       " 'universal_anisotropy',\n",
       " 'homogeneous_poisson',\n",
       " 'e_total',\n",
       " 'e_ionic',\n",
       " 'e_electronic',\n",
       " 'n',\n",
       " 'e_ij_max',\n",
       " 'weighted_surface_energy_EV_PER_ANG2',\n",
       " 'weighted_surface_energy',\n",
       " 'weighted_work_function',\n",
       " 'surface_anisotropy',\n",
       " 'shape_factor',\n",
       " 'has_reconstructed',\n",
       " 'possible_species',\n",
       " 'has_props',\n",
       " 'theoretical',\n",
       " 'database_IDs']"
      ]
     },
     "execution_count": 14,
     "metadata": {},
     "output_type": "execute_result"
    }
   ],
   "source": [
    "list_of_available_fields = mpr.summary.available_fields\n",
    "list_of_available_fields"
   ]
  },
  {
   "cell_type": "code",
   "execution_count": 21,
   "id": "05caa1ee-686a-4e12-a72d-863c74223822",
   "metadata": {
    "scrolled": true,
    "tags": []
   },
   "outputs": [
    {
     "data": {
      "text/plain": [
       "\u001b[4m\u001b[1mMPDataDoc<SummaryDoc>\u001b[0;0m\u001b[0;0m(\n",
       "\u001b[1mbuilder_meta\u001b[0;0m=EmmetMeta(emmet_version='0.72.20', pymatgen_version='2023.11.12', pull_request=990, database_version='2023.11.1', build_date=datetime.datetime(2023, 11, 22, 19, 44, 23, 497000), license='BY-C'),\n",
       "\u001b[1mnsites\u001b[0;0m=2,\n",
       "\u001b[1melements\u001b[0;0m=[Element F, Element Li],\n",
       "\u001b[1mnelements\u001b[0;0m=2,\n",
       "\u001b[1mcomposition\u001b[0;0m=Composition('Li1 F1'),\n",
       "\u001b[1mcomposition_reduced\u001b[0;0m=Composition('Li1 F1'),\n",
       "\u001b[1mformula_pretty\u001b[0;0m='LiF',\n",
       "\u001b[1mformula_anonymous\u001b[0;0m='AB',\n",
       "\u001b[1mchemsys\u001b[0;0m='F-Li',\n",
       "\u001b[1mvolume\u001b[0;0m=17.02215120415618,\n",
       "\u001b[1mdensity\u001b[0;0m=2.5304317804069387,\n",
       "\u001b[1mdensity_atomic\u001b[0;0m=8.51107560207809,\n",
       "\u001b[1msymmetry\u001b[0;0m=SymmetryData(crystal_system=<CrystalSystem.cubic: 'Cubic'>, symbol='Fm-3m', number=225, point_group='m-3m', symprec=0.1, version='2.0.2'),\n",
       "\u001b[1mproperty_name\u001b[0;0m='summary',\n",
       "\u001b[1mmaterial_id\u001b[0;0m=MPID(mp-1138),\n",
       "\u001b[1mdeprecated\u001b[0;0m=False,\n",
       "\u001b[1mdeprecation_reasons\u001b[0;0m=None,\n",
       "\u001b[1mlast_updated\u001b[0;0m=datetime.datetime(2023, 11, 22, 19, 44, 23, 497000),\n",
       "\u001b[1morigins\u001b[0;0m=[PropertyOrigin(name='structure', task_id=MPID(mp-1976303), last_updated=datetime.datetime(2021, 3, 6, 5, 30, 47, 403000)), PropertyOrigin(name='energy', task_id=MPID(mp-1976303), last_updated=datetime.datetime(2023, 8, 3, 18, 52, 55, 93000)), PropertyOrigin(name='magnetism', task_id=MPID(mp-1976303), last_updated=datetime.datetime(2021, 3, 6, 5, 30, 47, 403000)), PropertyOrigin(name='dielectric', task_id=MPID(mp-1539882), last_updated=datetime.datetime(2020, 5, 9, 9, 54, 28, 813000))],\n",
       "\u001b[1mwarnings\u001b[0;0m=[],\n",
       "\u001b[1mstructure\u001b[0;0m=Structure Summary\n",
       "Lattice\n",
       "    abc : 2.8874190721445334 2.887419441542915 2.887419\n",
       " angles : 59.999993602033705 59.99998937001777 59.99999714535949\n",
       " volume : 17.02215120415618\n",
       "      A : 2.500578 0.0 1.44371\n",
       "      B : 0.833526 2.357568 1.44371\n",
       "      C : 0.0 0.0 2.887419\n",
       "    pbc : True True True\n",
       "PeriodicSite: Li (0.0, 0.0, 0.0) [0.0, 0.0, 0.0]\n",
       "PeriodicSite: F (1.667, 1.179, 2.887) [0.5, 0.5, 0.5],\n",
       "\u001b[1mtask_ids\u001b[0;0m=[MPID(mp-1140392), MPID(mp-1440612), MPID(mp-1949959), MPID(mp-2246551), MPID(mp-669854), MPID(mp-2466919), MPID(mp-1976292), MPID(mp-2619136), MPID(mp-2294392), MPID(mp-660160), MPID(mp-2296354), MPID(mp-1539882), MPID(mp-1976290), MPID(mp-1976317), MPID(mp-1976321), MPID(mp-1976303), MPID(mp-1946026), MPID(mp-1949956), MPID(mp-656752), MPID(mp-1524102), MPID(mp-2475635), MPID(mp-1976299), MPID(mp-1540949), MPID(mp-1790796), MPID(mp-1946408), MPID(mp-1671218), MPID(mp-2651656), MPID(mp-2651671), MPID(mp-1976289), MPID(mp-1949848), MPID(mp-1138), MPID(mp-2651668), MPID(mp-2467014)],\n",
       "\u001b[1muncorrected_energy_per_atom\u001b[0;0m=-5.945312485,\n",
       "\u001b[1menergy_per_atom\u001b[0;0m=-5.945312485,\n",
       "\u001b[1mformation_energy_per_atom\u001b[0;0m=-3.1901320070833328,\n",
       "\u001b[1menergy_above_hull\u001b[0;0m=0.0,\n",
       "\u001b[1mis_stable\u001b[0;0m=True,\n",
       "\u001b[1mequilibrium_reaction_energy_per_atom\u001b[0;0m=-3.1901320070833328,\n",
       "\u001b[1mdecomposes_to\u001b[0;0m=None,\n",
       "\u001b[1mxas\u001b[0;0m=[XASSearchData(edge=<Edge.K: 'K'>, absorbing_element=Element Li, spectrum_type=<Type.XAFS: 'XAFS'>), XASSearchData(edge=<Edge.K: 'K'>, absorbing_element=Element F, spectrum_type=<Type.XANES: 'XANES'>), XASSearchData(edge=<Edge.K: 'K'>, absorbing_element=Element F, spectrum_type=<Type.XAFS: 'XAFS'>), XASSearchData(edge=<Edge.K: 'K'>, absorbing_element=Element Li, spectrum_type=<Type.XANES: 'XANES'>), XASSearchData(edge=<Edge.K: 'K'>, absorbing_element=Element Li, spectrum_type=<Type.EXAFS: 'EXAFS'>), XASSearchData(edge=<Edge.K: 'K'>, absorbing_element=Element F, spectrum_type=<Type.EXAFS: 'EXAFS'>)],\n",
       "\u001b[1mgrain_boundaries\u001b[0;0m=None,\n",
       "\u001b[1mband_gap\u001b[0;0m=8.7161,\n",
       "\u001b[1mcbm\u001b[0;0m=6.4339,\n",
       "\u001b[1mvbm\u001b[0;0m=-2.2822,\n",
       "\u001b[1mefermi\u001b[0;0m=-2.11338606,\n",
       "\u001b[1mis_gap_direct\u001b[0;0m=False,\n",
       "\u001b[1mis_metal\u001b[0;0m=False,\n",
       "\u001b[1mes_source_calc_id\u001b[0;0m=None,\n",
       "\u001b[1mbandstructure\u001b[0;0m=BandstructureData(setyawan_curtarolo=BandStructureSummaryData(task_id=MPID(mp-669854), band_gap=8.7161, cbm={'band_index': {'1': [5]}, 'kpoint_index': [0, 94, 95], 'kpoint': <pymatgen.electronic_structure.bandstructure.Kpoint object at 0x0000025E2D76EF50>, 'energy': 6.4339, 'projections': {}}, vbm={'band_index': {'1': [4]}, 'kpoint_index': ['89'], 'kpoint': <pymatgen.electronic_structure.bandstructure.Kpoint object at 0x0000025E2D76D290>, 'energy': -2.2822, 'projections': {}}, efermi=-2.11338606, is_gap_direct=False, is_metal=False, magnetic_ordering='NM', nbands=16.0, equivalent_labels={'setyawan_curtarolo': {'latimer_munro': {'\\\\Gamma': 'Γ', 'K': 'q', 'L': 'a', 'U': 'q_{1}', 'W': 'r', 'X': 'd'}, 'hinuma': {'\\\\Gamma': 'GAMMA', 'K': 'K', 'L': 'L', 'U': 'U', 'W': 'W', 'X': 'X'}}, 'latimer_munro': {'setyawan_curtarolo': {'a': 'L', 'q': 'K', 'r': 'W', 'Γ': '\\\\Gamma', 'q_{1}': 'U', 'd': 'X'}, 'hinuma': {'a': 'L', 'q': 'K', 'r': 'W', 'Γ': 'GAMMA', 'q_{1}': 'U', 'd': 'X'}}, 'hinuma': {'setyawan_curtarolo': {'GAMMA': '\\\\Gamma', 'X': 'X', 'L': 'L', 'W': 'W', 'K': 'K', 'U': 'U', 'W_2': 'W^{*}'}, 'latimer_munro': {'GAMMA': 'Γ', 'X': 'd', 'L': 'a', 'W': 'r', 'K': 'q', 'U': 'q_{1}', 'W_2': 'r^{*}'}}}, direct_gap=8.7173), hinuma=None, latimer_munro=None),\n",
       "\u001b[1mdos\u001b[0;0m=DosData(total={'1': DosSummaryData(task_id=MPID(mp-2294392), band_gap=8.6959, cbm=6.431, vbm=-2.2649, efermi=-2.25310726, spin_polarization=None)}, elemental={Element Li: {'total': {'1': DosSummaryData(task_id=MPID(mp-2294392), band_gap=8.6959, cbm=6.431, vbm=-2.2649, efermi=-2.25310726, spin_polarization=None)}, 's': {'1': DosSummaryData(task_id=MPID(mp-2294392), band_gap=8.6959, cbm=6.431, vbm=-2.2649, efermi=-2.25310726, spin_polarization=None)}, 'p': {'1': DosSummaryData(task_id=MPID(mp-2294392), band_gap=8.7431, cbm=6.4782, vbm=-2.2649, efermi=-2.25310726, spin_polarization=None)}, 'd': {'1': DosSummaryData(task_id=MPID(mp-2294392), band_gap=94.5207, cbm=46.9331, vbm=-47.5876, efermi=-2.25310726, spin_polarization=None)}}, Element F: {'total': {'1': DosSummaryData(task_id=MPID(mp-2294392), band_gap=8.6959, cbm=6.431, vbm=-2.2649, efermi=-2.25310726, spin_polarization=None)}, 's': {'1': DosSummaryData(task_id=MPID(mp-2294392), band_gap=8.6959, cbm=6.431, vbm=-2.2649, efermi=-2.25310726, spin_polarization=None)}, 'p': {'1': DosSummaryData(task_id=MPID(mp-2294392), band_gap=8.7431, cbm=6.4782, vbm=-2.2649, efermi=-2.25310726, spin_polarization=None)}, 'd': {'1': DosSummaryData(task_id=MPID(mp-2294392), band_gap=94.5207, cbm=46.9331, vbm=-47.5876, efermi=-2.25310726, spin_polarization=None)}}}, orbital={'s': {'1': DosSummaryData(task_id=MPID(mp-2294392), band_gap=8.6959, cbm=6.431, vbm=-2.2649, efermi=-2.25310726, spin_polarization=None)}, 'p': {'1': DosSummaryData(task_id=MPID(mp-2294392), band_gap=8.7431, cbm=6.4782, vbm=-2.2649, efermi=-2.25310726, spin_polarization=None)}, 'd': {'1': DosSummaryData(task_id=MPID(mp-2294392), band_gap=94.5207, cbm=46.9331, vbm=-47.5876, efermi=-2.25310726, spin_polarization=None)}}, magnetic_ordering='NM'),\n",
       "\u001b[1mdos_energy_up\u001b[0;0m=None,\n",
       "\u001b[1mdos_energy_down\u001b[0;0m=None,\n",
       "\u001b[1mis_magnetic\u001b[0;0m=False,\n",
       "\u001b[1mordering\u001b[0;0m='NM',\n",
       "\u001b[1mtotal_magnetization\u001b[0;0m=0.0,\n",
       "\u001b[1mtotal_magnetization_normalized_vol\u001b[0;0m=0.0,\n",
       "\u001b[1mtotal_magnetization_normalized_formula_units\u001b[0;0m=0.0,\n",
       "\u001b[1mnum_magnetic_sites\u001b[0;0m=0,\n",
       "\u001b[1mnum_unique_magnetic_sites\u001b[0;0m=0,\n",
       "\u001b[1mtypes_of_magnetic_species\u001b[0;0m=[],\n",
       "\u001b[1mbulk_modulus\u001b[0;0m={'voigt': 69.649, 'reuss': 69.649, 'vrh': 69.649},\n",
       "\u001b[1mshear_modulus\u001b[0;0m={'voigt': 50.976, 'reuss': 49.061, 'vrh': 50.018},\n",
       "\u001b[1muniversal_anisotropy\u001b[0;0m=0.195,\n",
       "\u001b[1mhomogeneous_poisson\u001b[0;0m=0.21,\n",
       "\u001b[1me_total\u001b[0;0m=8.689130619999325,\n",
       "\u001b[1me_ionic\u001b[0;0m=6.65347868666615,\n",
       "\u001b[1me_electronic\u001b[0;0m=2.0356519333331753,\n",
       "\u001b[1mn\u001b[0;0m=1.4267627459858823,\n",
       "\u001b[1me_ij_max\u001b[0;0m=None,\n",
       "\u001b[1mweighted_surface_energy_EV_PER_ANG2\u001b[0;0m=None,\n",
       "\u001b[1mweighted_surface_energy\u001b[0;0m=None,\n",
       "\u001b[1mweighted_work_function\u001b[0;0m=None,\n",
       "\u001b[1msurface_anisotropy\u001b[0;0m=None,\n",
       "\u001b[1mshape_factor\u001b[0;0m=None,\n",
       "\u001b[1mhas_reconstructed\u001b[0;0m=None,\n",
       "\u001b[1mpossible_species\u001b[0;0m=['Li+', 'F-'],\n",
       "\u001b[1mhas_props\u001b[0;0m={'materials': True, 'thermo': True, 'xas': True, 'grain_boundaries': False, 'chemenv': True, 'electronic_structure': True, 'absorption': False, 'bandstructure': True, 'dos': True, 'magnetism': True, 'elasticity': True, 'dielectric': True, 'piezoelectric': False, 'surface_properties': False, 'oxi_states': True, 'provenance': True, 'charge_density': True, 'eos': True, 'phonon': True, 'insertion_electrodes': False, 'substrates': True},\n",
       "\u001b[1mtheoretical\u001b[0;0m=False,\n",
       "\u001b[1mdatabase_IDs\u001b[0;0m={'icsd': ['icsd-53839', 'icsd-52234', 'icsd-44879', 'icsd-18012', 'icsd-62361', 'icsd-44272', 'icsd-41409', 'icsd-181799']},\n",
       "\u001b[1mfields_not_requested\u001b[0;0m=[]\n",
       ")"
      ]
     },
     "execution_count": 21,
     "metadata": {},
     "output_type": "execute_result"
    }
   ],
   "source": [
    "example_doc"
   ]
  },
  {
   "cell_type": "code",
   "execution_count": 70,
   "id": "ee325cd4-89cf-42c6-b8a0-d74606981de2",
   "metadata": {
    "tags": []
   },
   "outputs": [
    {
     "name": "stderr",
     "output_type": "stream",
     "text": [
      "C:\\Users\\DELL\\AppData\\Local\\Temp\\ipykernel_4272\\2090611044.py:2: DeprecationWarning: Accessing summary data through MPRester.summary is deprecated. Please use MPRester.materials.summary instead.\n",
      "  docs = mpr.summary.search(material_ids=[\"mp-1138\",\"mp-682\",\"mp-463\"])\n"
     ]
    },
    {
     "data": {
      "application/vnd.jupyter.widget-view+json": {
       "model_id": "1a8876c2b9be49cea6b04deebca02715",
       "version_major": 2,
       "version_minor": 0
      },
      "text/plain": [
       "Retrieving SummaryDoc documents:   0%|          | 0/3 [00:00<?, ?it/s]"
      ]
     },
     "metadata": {},
     "output_type": "display_data"
    }
   ],
   "source": [
    "# docs = mpr.summary.search(material_ids=[\"mp-1138\",\"mp-682\",\"mp-463\"])\n",
    "docs = mpr.summary.search(material_ids=[\"mp-1138\",\"mp-682\",\"mp-463\",\"mp-2064\",\"mp-111\",\"mp-111\",\"mp-111\",\"mp-111\",\"mp-111\",\"mp-111\",\"mp-111\",\"mp-111\",\"mp-111\",\"mp-111\",\"mp-111\",\"mp-111\",\"mp-111\",\"mp-111\",\"mp-111\",\"mp-111\",\"mp-111\",\"mp-111\",\"mp-111\",\"mp-111\",\"mp-111\",\"mp-111\",\"mp-111\",\"mp-111\",\"mp-111\",\"mp-111\",\"mp-111\",\"mp-111\",\"mp-111\",\"mp-111\",\"mp-111\",\"mp-111\",\"mp-111\"])"
   ]
  },
  {
   "cell_type": "code",
   "execution_count": 73,
   "id": "00bd038e-2072-4f94-8743-dfba5aa64ee3",
   "metadata": {
    "tags": []
   },
   "outputs": [
    {
     "data": {
      "text/html": [
       "<div>\n",
       "<style scoped>\n",
       "    .dataframe tbody tr th:only-of-type {\n",
       "        vertical-align: middle;\n",
       "    }\n",
       "\n",
       "    .dataframe tbody tr th {\n",
       "        vertical-align: top;\n",
       "    }\n",
       "\n",
       "    .dataframe thead th {\n",
       "        text-align: right;\n",
       "    }\n",
       "</style>\n",
       "<table border=\"1\" class=\"dataframe\">\n",
       "  <thead>\n",
       "    <tr style=\"text-align: right;\">\n",
       "      <th></th>\n",
       "      <th>0</th>\n",
       "    </tr>\n",
       "  </thead>\n",
       "  <tbody>\n",
       "    <tr>\n",
       "      <th>0</th>\n",
       "      <td>mp-682</td>\n",
       "    </tr>\n",
       "    <tr>\n",
       "      <th>1</th>\n",
       "      <td>mp-1138</td>\n",
       "    </tr>\n",
       "    <tr>\n",
       "      <th>2</th>\n",
       "      <td>mp-463</td>\n",
       "    </tr>\n",
       "  </tbody>\n",
       "</table>\n",
       "</div>"
      ],
      "text/plain": [
       "         0\n",
       "0   mp-682\n",
       "1  mp-1138\n",
       "2   mp-463"
      ]
     },
     "execution_count": 73,
     "metadata": {},
     "output_type": "execute_result"
    }
   ],
   "source": [
    "pd.DataFrame((docs[0].material_id,docs[1].material_id,docs[2].material_id))"
   ]
  },
  {
   "cell_type": "code",
   "execution_count": 74,
   "id": "3cf064a9-4a61-40bb-825d-5315bf581e5e",
   "metadata": {
    "tags": []
   },
   "outputs": [
    {
     "data": {
      "text/html": [
       "<div>\n",
       "<style scoped>\n",
       "    .dataframe tbody tr th:only-of-type {\n",
       "        vertical-align: middle;\n",
       "    }\n",
       "\n",
       "    .dataframe tbody tr th {\n",
       "        vertical-align: top;\n",
       "    }\n",
       "\n",
       "    .dataframe thead th {\n",
       "        text-align: right;\n",
       "    }\n",
       "</style>\n",
       "<table border=\"1\" class=\"dataframe\">\n",
       "  <thead>\n",
       "    <tr style=\"text-align: right;\">\n",
       "      <th></th>\n",
       "      <th>0</th>\n",
       "    </tr>\n",
       "  </thead>\n",
       "  <tbody>\n",
       "    <tr>\n",
       "      <th>0</th>\n",
       "      <td>2</td>\n",
       "    </tr>\n",
       "    <tr>\n",
       "      <th>1</th>\n",
       "      <td>2</td>\n",
       "    </tr>\n",
       "    <tr>\n",
       "      <th>2</th>\n",
       "      <td>2</td>\n",
       "    </tr>\n",
       "  </tbody>\n",
       "</table>\n",
       "</div>"
      ],
      "text/plain": [
       "   0\n",
       "0  2\n",
       "1  2\n",
       "2  2"
      ]
     },
     "execution_count": 74,
     "metadata": {},
     "output_type": "execute_result"
    }
   ],
   "source": [
    "pd.DataFrame((docs[0].nsites,docs[1].nsites,docs[2].nsites))"
   ]
  },
  {
   "cell_type": "code",
   "execution_count": 76,
   "id": "00abbf00-4582-4706-80dc-8df9d3ac1d83",
   "metadata": {
    "tags": []
   },
   "outputs": [
    {
     "data": {
      "text/html": [
       "<div>\n",
       "<style scoped>\n",
       "    .dataframe tbody tr th:only-of-type {\n",
       "        vertical-align: middle;\n",
       "    }\n",
       "\n",
       "    .dataframe tbody tr th {\n",
       "        vertical-align: top;\n",
       "    }\n",
       "\n",
       "    .dataframe thead th {\n",
       "        text-align: right;\n",
       "    }\n",
       "</style>\n",
       "<table border=\"1\" class=\"dataframe\">\n",
       "  <thead>\n",
       "    <tr style=\"text-align: right;\">\n",
       "      <th></th>\n",
       "      <th>0</th>\n",
       "    </tr>\n",
       "  </thead>\n",
       "  <tbody>\n",
       "    <tr>\n",
       "      <th>0</th>\n",
       "      <td>23.889026</td>\n",
       "    </tr>\n",
       "    <tr>\n",
       "      <th>1</th>\n",
       "      <td>17.022151</td>\n",
       "    </tr>\n",
       "    <tr>\n",
       "      <th>2</th>\n",
       "      <td>37.405519</td>\n",
       "    </tr>\n",
       "  </tbody>\n",
       "</table>\n",
       "</div>"
      ],
      "text/plain": [
       "           0\n",
       "0  23.889026\n",
       "1  17.022151\n",
       "2  37.405519"
      ]
     },
     "execution_count": 76,
     "metadata": {},
     "output_type": "execute_result"
    }
   ],
   "source": [
    "pd.DataFrame((docs[0].volume,docs[1].volume,docs[2].volume))"
   ]
  },
  {
   "cell_type": "code",
   "execution_count": null,
   "id": "1e862d6d-b4e7-4731-b414-0fd23da53157",
   "metadata": {},
   "outputs": [],
   "source": []
  },
  {
   "cell_type": "code",
   "execution_count": null,
   "id": "5372a211-44d2-4e09-9981-f4e4d64e02ad",
   "metadata": {},
   "outputs": [],
   "source": [
    "\n",
    "print(doc.density)\n",
    "print(doc.density_atomic)\n",
    "print(doc.uncorrected_energy_per_atom)\n",
    "print(doc.energy_per_atom)\n",
    "print(doc.formation_energy_per_atom)\n",
    "print(doc.cbm)\n",
    "print(doc.vbm)\n",
    "print(doc.total_magnetization)\n",
    "print(doc.density_atomic)\n",
    "print(doc.density_atomic)\n",
    "print(doc.density_atomic)"
   ]
  },
  {
   "cell_type": "code",
   "execution_count": null,
   "id": "6d9d13d7-0da4-4801-86de-38768aa34479",
   "metadata": {},
   "outputs": [],
   "source": []
  },
  {
   "cell_type": "code",
   "execution_count": 62,
   "id": "aba50981-cfaa-4410-abd7-e3eaaacff2cf",
   "metadata": {
    "tags": []
   },
   "outputs": [
    {
     "data": {
      "text/html": [
       "<div>\n",
       "<style scoped>\n",
       "    .dataframe tbody tr th:only-of-type {\n",
       "        vertical-align: middle;\n",
       "    }\n",
       "\n",
       "    .dataframe tbody tr th {\n",
       "        vertical-align: top;\n",
       "    }\n",
       "\n",
       "    .dataframe thead th {\n",
       "        text-align: right;\n",
       "    }\n",
       "</style>\n",
       "<table border=\"1\" class=\"dataframe\">\n",
       "  <thead>\n",
       "    <tr style=\"text-align: right;\">\n",
       "      <th></th>\n",
       "      <th>0</th>\n",
       "      <th>1</th>\n",
       "      <th>2</th>\n",
       "      <th>3</th>\n",
       "      <th>4</th>\n",
       "      <th>5</th>\n",
       "      <th>6</th>\n",
       "      <th>7</th>\n",
       "      <th>8</th>\n",
       "      <th>9</th>\n",
       "      <th>...</th>\n",
       "      <th>60</th>\n",
       "      <th>61</th>\n",
       "      <th>62</th>\n",
       "      <th>63</th>\n",
       "      <th>64</th>\n",
       "      <th>65</th>\n",
       "      <th>66</th>\n",
       "      <th>67</th>\n",
       "      <th>68</th>\n",
       "      <th>69</th>\n",
       "    </tr>\n",
       "  </thead>\n",
       "  <tbody>\n",
       "    <tr>\n",
       "      <th>0</th>\n",
       "      <td>builder_meta</td>\n",
       "      <td>nsites</td>\n",
       "      <td>elements</td>\n",
       "      <td>nelements</td>\n",
       "      <td>composition</td>\n",
       "      <td>composition_reduced</td>\n",
       "      <td>formula_pretty</td>\n",
       "      <td>formula_anonymous</td>\n",
       "      <td>chemsys</td>\n",
       "      <td>volume</td>\n",
       "      <td>...</td>\n",
       "      <td>weighted_surface_energy</td>\n",
       "      <td>weighted_work_function</td>\n",
       "      <td>surface_anisotropy</td>\n",
       "      <td>shape_factor</td>\n",
       "      <td>has_reconstructed</td>\n",
       "      <td>possible_species</td>\n",
       "      <td>has_props</td>\n",
       "      <td>theoretical</td>\n",
       "      <td>database_IDs</td>\n",
       "      <td>fields_not_requested</td>\n",
       "    </tr>\n",
       "    <tr>\n",
       "      <th>1</th>\n",
       "      <td>emmet_version='0.72.20' pymatgen_version='2023...</td>\n",
       "      <td>2</td>\n",
       "      <td>[F, Na]</td>\n",
       "      <td>2</td>\n",
       "      <td>(Na, F)</td>\n",
       "      <td>(Na, F)</td>\n",
       "      <td>NaF</td>\n",
       "      <td>AB</td>\n",
       "      <td>F-Na</td>\n",
       "      <td>23.889026</td>\n",
       "      <td>...</td>\n",
       "      <td>None</td>\n",
       "      <td>None</td>\n",
       "      <td>None</td>\n",
       "      <td>None</td>\n",
       "      <td>None</td>\n",
       "      <td>[Na+, F-]</td>\n",
       "      <td>{'materials': True, 'thermo': True, 'xas': Tru...</td>\n",
       "      <td>False</td>\n",
       "      <td>{'icsd': ['icsd-53821', 'icsd-44276', 'icsd-43...</td>\n",
       "      <td>[]</td>\n",
       "    </tr>\n",
       "  </tbody>\n",
       "</table>\n",
       "<p>2 rows × 70 columns</p>\n",
       "</div>"
      ],
      "text/plain": [
       "                                                  0       1         2   \\\n",
       "0                                       builder_meta  nsites  elements   \n",
       "1  emmet_version='0.72.20' pymatgen_version='2023...       2   [F, Na]   \n",
       "\n",
       "          3            4                    5               6   \\\n",
       "0  nelements  composition  composition_reduced  formula_pretty   \n",
       "1          2      (Na, F)              (Na, F)             NaF   \n",
       "\n",
       "                  7        8          9   ...                       60  \\\n",
       "0  formula_anonymous  chemsys     volume  ...  weighted_surface_energy   \n",
       "1                 AB     F-Na  23.889026  ...                     None   \n",
       "\n",
       "                       61                  62            63  \\\n",
       "0  weighted_work_function  surface_anisotropy  shape_factor   \n",
       "1                    None                None          None   \n",
       "\n",
       "                  64                65  \\\n",
       "0  has_reconstructed  possible_species   \n",
       "1               None         [Na+, F-]   \n",
       "\n",
       "                                                  66           67  \\\n",
       "0                                          has_props  theoretical   \n",
       "1  {'materials': True, 'thermo': True, 'xas': Tru...        False   \n",
       "\n",
       "                                                  68                    69  \n",
       "0                                       database_IDs  fields_not_requested  \n",
       "1  {'icsd': ['icsd-53821', 'icsd-44276', 'icsd-43...                    []  \n",
       "\n",
       "[2 rows x 70 columns]"
      ]
     },
     "execution_count": 62,
     "metadata": {},
     "output_type": "execute_result"
    }
   ],
   "source": [
    "import pandas as pd\n",
    "doc1=pd.DataFrame(doc).T\n",
    "doc1"
   ]
  },
  {
   "cell_type": "code",
   "execution_count": null,
   "id": "758117c7-eae7-4feb-a35f-c7735dc70f88",
   "metadata": {},
   "outputs": [],
   "source": []
  },
  {
   "cell_type": "code",
   "execution_count": null,
   "id": "b9c0c9ff-ce45-42f9-8447-bcb75c049ecf",
   "metadata": {},
   "outputs": [],
   "source": []
  },
  {
   "cell_type": "code",
   "execution_count": null,
   "id": "2b5ba8b4-7c3a-4c68-a146-a92306deca8b",
   "metadata": {},
   "outputs": [],
   "source": []
  },
  {
   "cell_type": "code",
   "execution_count": 78,
   "id": "191b0e65-9e77-4af1-8efc-2d7f7a4a3e3e",
   "metadata": {
    "tags": []
   },
   "outputs": [
    {
     "name": "stderr",
     "output_type": "stream",
     "text": [
      "C:\\Users\\DELL\\AppData\\Local\\Temp\\ipykernel_4272\\2229276692.py:1: DeprecationWarning: Accessing summary data through MPRester.summary is deprecated. Please use MPRester.materials.summary instead.\n",
      "  doc11 = mpr.summary.search(formula=[\"CsF\"])\n"
     ]
    },
    {
     "data": {
      "application/vnd.jupyter.widget-view+json": {
       "model_id": "a3322dbb24b444bfa81e9c3b6613406f",
       "version_major": 2,
       "version_minor": 0
      },
      "text/plain": [
       "Retrieving SummaryDoc documents:   0%|          | 0/2 [00:00<?, ?it/s]"
      ]
     },
     "metadata": {},
     "output_type": "display_data"
    },
    {
     "data": {
      "text/plain": [
       "[\u001b[4m\u001b[1mMPDataDoc<SummaryDoc>\u001b[0;0m\u001b[0;0m(\n",
       " \u001b[1mbuilder_meta\u001b[0;0m=EmmetMeta(emmet_version='0.72.20', pymatgen_version='2023.11.12', pull_request=990, database_version='2023.11.1', build_date=datetime.datetime(2023, 11, 22, 19, 45, 1, 362000), license='BY-C'),\n",
       " \u001b[1mnsites\u001b[0;0m=2,\n",
       " \u001b[1melements\u001b[0;0m=[Element Cs, Element F],\n",
       " \u001b[1mnelements\u001b[0;0m=2,\n",
       " \u001b[1mcomposition\u001b[0;0m=Composition('Cs1 F1'),\n",
       " \u001b[1mcomposition_reduced\u001b[0;0m=Composition('Cs1 F1'),\n",
       " \u001b[1mformula_pretty\u001b[0;0m='CsF',\n",
       " \u001b[1mformula_anonymous\u001b[0;0m='AB',\n",
       " \u001b[1mchemsys\u001b[0;0m='Cs-F',\n",
       " \u001b[1mvolume\u001b[0;0m=50.74081729089509,\n",
       " \u001b[1mdensity\u001b[0;0m=4.971190832709703,\n",
       " \u001b[1mdensity_atomic\u001b[0;0m=25.370408645447544,\n",
       " \u001b[1msymmetry\u001b[0;0m=SymmetryData(crystal_system=<CrystalSystem.cubic: 'Cubic'>, symbol='Pm-3m', number=221, point_group='m-3m', symprec=0.1, version='2.0.2'),\n",
       " \u001b[1mproperty_name\u001b[0;0m='summary',\n",
       " \u001b[1mmaterial_id\u001b[0;0m=MPID(mp-8455),\n",
       " \u001b[1mdeprecated\u001b[0;0m=False,\n",
       " \u001b[1mdeprecation_reasons\u001b[0;0m=None,\n",
       " \u001b[1mlast_updated\u001b[0;0m=datetime.datetime(2023, 11, 22, 19, 45, 1, 363000),\n",
       " \u001b[1morigins\u001b[0;0m=[PropertyOrigin(name='structure', task_id=MPID(mp-1791282), last_updated=datetime.datetime(2020, 11, 10, 20, 7, 9, 130000)), PropertyOrigin(name='energy', task_id=MPID(mp-1791282), last_updated=datetime.datetime(2023, 8, 3, 19, 45, 14, 439000)), PropertyOrigin(name='magnetism', task_id=MPID(mp-1791282), last_updated=datetime.datetime(2020, 11, 10, 20, 7, 9, 130000))],\n",
       " \u001b[1mwarnings\u001b[0;0m=[],\n",
       " \u001b[1mstructure\u001b[0;0m=Structure Summary\n",
       " Lattice\n",
       "     abc : 3.702137 3.702137 3.702137\n",
       "  angles : 90.0 90.0 90.0\n",
       "  volume : 50.74081729089509\n",
       "       A : 3.702137 0.0 0.0\n",
       "       B : 0.0 3.702137 0.0\n",
       "       C : 0.0 0.0 3.702137\n",
       "     pbc : True True True\n",
       " PeriodicSite: Cs (0.0, 0.0, 0.0) [0.0, 0.0, 0.0]\n",
       " PeriodicSite: F (1.851, 1.851, 1.851) [0.5, 0.5, 0.5],\n",
       " \u001b[1mtask_ids\u001b[0;0m=[MPID(mp-1791282), MPID(mp-2289143), MPID(mp-1593588), MPID(mp-660924), MPID(mp-1688400), MPID(mp-658022), MPID(mp-8455), MPID(mp-2693611), MPID(mp-2299409), MPID(mp-1439696), MPID(mp-2064664), MPID(mp-2293122), MPID(mp-656771)],\n",
       " \u001b[1muncorrected_energy_per_atom\u001b[0;0m=-3.906253035,\n",
       " \u001b[1menergy_per_atom\u001b[0;0m=-16.84174068,\n",
       " \u001b[1mformation_energy_per_atom\u001b[0;0m=-2.7303111337500017,\n",
       " \u001b[1menergy_above_hull\u001b[0;0m=0.10877166999999943,\n",
       " \u001b[1mis_stable\u001b[0;0m=False,\n",
       " \u001b[1mequilibrium_reaction_energy_per_atom\u001b[0;0m=None,\n",
       " \u001b[1mdecomposes_to\u001b[0;0m=[DecompositionProduct(material_id=MPID(mp-1784), formula='Cs1 F1', amount=1.0)],\n",
       " \u001b[1mxas\u001b[0;0m=None,\n",
       " \u001b[1mgrain_boundaries\u001b[0;0m=None,\n",
       " \u001b[1mband_gap\u001b[0;0m=5.938,\n",
       " \u001b[1mcbm\u001b[0;0m=5.1793,\n",
       " \u001b[1mvbm\u001b[0;0m=-0.7587,\n",
       " \u001b[1mefermi\u001b[0;0m=-0.5311289,\n",
       " \u001b[1mis_gap_direct\u001b[0;0m=True,\n",
       " \u001b[1mis_metal\u001b[0;0m=False,\n",
       " \u001b[1mes_source_calc_id\u001b[0;0m=None,\n",
       " \u001b[1mbandstructure\u001b[0;0m=BandstructureData(setyawan_curtarolo=BandStructureSummaryData(task_id=MPID(mp-1593588), band_gap=5.938, cbm={'band_index': {'1': [8]}, 'kpoint_index': [0, 61, 62], 'kpoint': <pymatgen.electronic_structure.bandstructure.Kpoint object at 0x0000025E3670C690>, 'energy': 5.1793, 'projections': {'1': [[0.1471, 0.0473], [0.0, 0.0], [0.0, 0.0], [0.0, 0.0], [0.0, 0.0], [0.0, 0.0], [0.0, 0.0], [0.0, 0.0], [0.0, 0.0]]}}, vbm={'band_index': {'1': [5, 6, 7]}, 'kpoint_index': [0, 61, 62], 'kpoint': <pymatgen.electronic_structure.bandstructure.Kpoint object at 0x0000025E3670C0D0>, 'energy': -0.7587, 'projections': {'1': [[0.0, 0.0], [0.0026, 0.0545], [0.0308, 0.6381], [0.0026, 0.0542], [0.0, 0.0], [0.0, 0.0], [0.0, 0.0], [0.0, 0.0], [0.0, 0.0]]}}, efermi=-0.5311289, is_gap_direct=True, is_metal=False, magnetic_ordering='NM', nbands=96.0, equivalent_labels={'setyawan_curtarolo': {'latimer_munro': {'\\\\Gamma': 'Γ', 'X': 'a', 'R': 'g', 'M': 'd'}, 'hinuma': {'\\\\Gamma': 'GAMMA', 'X': 'X', 'R': 'R', 'M': 'M'}}, 'latimer_munro': {'setyawan_curtarolo': {'d': 'M', 'g': 'R', 'Γ': '\\\\Gamma', 'a': 'X'}, 'hinuma': {'d': 'M', 'g': 'R', 'Γ': 'GAMMA', 'a': 'X_1'}}, 'hinuma': {'setyawan_curtarolo': {'GAMMA': '\\\\Gamma', 'R': 'R', 'M': 'M', 'X': 'X', 'X_1': 'X^{*}'}, 'latimer_munro': {'GAMMA': 'Γ', 'R': 'g', 'M': 'd', 'X_1': 'a', 'X': 'a^{*}'}}}, direct_gap=5.938), hinuma=BandStructureSummaryData(task_id=MPID(mp-2064664), band_gap=5.938, cbm={'band_index': {'1': [8]}, 'kpoint_index': [0, 61, 62], 'kpoint': <pymatgen.electronic_structure.bandstructure.Kpoint object at 0x0000025E3670CED0>, 'energy': 5.1793, 'projections': {'1': [[0.1471, 0.0473], [0.0, 0.0], [0.0, 0.0], [0.0, 0.0], [0.0, 0.0], [0.0, 0.0], [0.0, 0.0], [0.0, 0.0], [0.0, 0.0]]}}, vbm={'band_index': {'1': [5, 6, 7]}, 'kpoint_index': [0, 61, 62], 'kpoint': <pymatgen.electronic_structure.bandstructure.Kpoint object at 0x0000025E3670D350>, 'energy': -0.7587, 'projections': {'1': [[0.0, 0.0], [0.0026, 0.0545], [0.0308, 0.6381], [0.0026, 0.0542], [0.0, 0.0], [0.0, 0.0], [0.0, 0.0], [0.0, 0.0], [0.0, 0.0]]}}, efermi=-0.5311289, is_gap_direct=True, is_metal=False, magnetic_ordering='NM', nbands=96.0, equivalent_labels={'setyawan_curtarolo': {'latimer_munro': {'\\\\Gamma': 'Γ', 'X': 'a', 'R': 'g', 'M': 'd'}, 'hinuma': {'\\\\Gamma': 'GAMMA', 'X': 'X', 'R': 'R', 'M': 'M'}}, 'latimer_munro': {'setyawan_curtarolo': {'d': 'M', 'g': 'R', 'Γ': '\\\\Gamma', 'a': 'X'}, 'hinuma': {'d': 'M', 'g': 'R', 'Γ': 'GAMMA', 'a': 'X_1'}}, 'hinuma': {'setyawan_curtarolo': {'GAMMA': '\\\\Gamma', 'R': 'R', 'M': 'M', 'X': 'X', 'X_1': 'X^{*}'}, 'latimer_munro': {'GAMMA': 'Γ', 'R': 'g', 'M': 'd', 'X_1': 'a', 'X': 'a^{*}'}}}, direct_gap=5.938), latimer_munro=BandStructureSummaryData(task_id=MPID(mp-2693611), band_gap=5.938, cbm={'band_index': {'1': [8]}, 'kpoint_index': [43, 44, 136], 'kpoint': <pymatgen.electronic_structure.bandstructure.Kpoint object at 0x0000025E3670D890>, 'energy': 5.1793, 'projections': {'1': [[0.1471, 0.0473], [0.0, 0.0], [0.0, 0.0], [0.0, 0.0], [0.0, 0.0], [0.0, 0.0], [0.0, 0.0], [0.0, 0.0], [0.0, 0.0]]}}, vbm={'band_index': {'1': [5, 6, 7]}, 'kpoint_index': [43, 44, 136], 'kpoint': <pymatgen.electronic_structure.bandstructure.Kpoint object at 0x0000025E3670DF10>, 'energy': -0.7587, 'projections': {'1': [[0.0, 0.0], [0.0027, 0.0551], [0.0308, 0.637], [0.0026, 0.0546], [0.0, 0.0], [0.0, 0.0], [0.0, 0.0], [0.0, 0.0], [0.0, 0.0]]}}, efermi=-0.53493966, is_gap_direct=True, is_metal=False, magnetic_ordering='NM', nbands=96.0, equivalent_labels={'setyawan_curtarolo': {'latimer_munro': {'\\\\Gamma': 'Γ', 'X': 'a', 'R': 'g', 'M': 'd'}, 'hinuma': {'\\\\Gamma': 'GAMMA', 'X': 'X', 'R': 'R', 'M': 'M'}}, 'latimer_munro': {'setyawan_curtarolo': {'d': 'M', 'g': 'R', 'Γ': '\\\\Gamma', 'a': 'X'}, 'hinuma': {'d': 'M', 'g': 'R', 'Γ': 'GAMMA', 'a': 'X_1'}}, 'hinuma': {'setyawan_curtarolo': {'GAMMA': '\\\\Gamma', 'R': 'R', 'M': 'M', 'X': 'X', 'X_1': 'X^{*}'}, 'latimer_munro': {'GAMMA': 'Γ', 'R': 'g', 'M': 'd', 'X_1': 'a', 'X': 'a^{*}'}}}, direct_gap=5.938)),\n",
       " \u001b[1mdos\u001b[0;0m=DosData(total={'1': DosSummaryData(task_id=MPID(mp-2289143), band_gap=6.0084, cbm=5.2576, vbm=-0.7508, efermi=-0.74556155, spin_polarization=None)}, elemental={Element Cs: {'total': {'1': DosSummaryData(task_id=MPID(mp-2289143), band_gap=6.0084, cbm=5.2576, vbm=-0.7508, efermi=-0.74556155, spin_polarization=None)}, 's': {'1': DosSummaryData(task_id=MPID(mp-2289143), band_gap=6.0292, cbm=5.2576, vbm=-0.7716, efermi=-0.74556155, spin_polarization=None)}, 'p': {'1': DosSummaryData(task_id=MPID(mp-2289143), band_gap=6.0501, cbm=5.2993, vbm=-0.7508, efermi=-0.74556155, spin_polarization=None)}, 'd': {'1': DosSummaryData(task_id=MPID(mp-2289143), band_gap=6.0084, cbm=5.2576, vbm=-0.7508, efermi=-0.74556155, spin_polarization=None)}}, Element F: {'total': {'1': DosSummaryData(task_id=MPID(mp-2289143), band_gap=6.0084, cbm=5.2576, vbm=-0.7508, efermi=-0.74556155, spin_polarization=None)}, 's': {'1': DosSummaryData(task_id=MPID(mp-2289143), band_gap=6.071, cbm=5.2576, vbm=-0.8134, efermi=-0.74556155, spin_polarization=None)}, 'p': {'1': DosSummaryData(task_id=MPID(mp-2289143), band_gap=6.0293, cbm=5.2785, vbm=-0.7508, efermi=-0.74556155, spin_polarization=None)}, 'd': {'1': DosSummaryData(task_id=MPID(mp-2289143), band_gap=41.7249, cbm=19.6527, vbm=-22.0722, efermi=-0.74556155, spin_polarization=None)}}}, orbital={'s': {'1': DosSummaryData(task_id=MPID(mp-2289143), band_gap=6.0292, cbm=5.2576, vbm=-0.7716, efermi=-0.74556155, spin_polarization=None)}, 'p': {'1': DosSummaryData(task_id=MPID(mp-2289143), band_gap=6.0293, cbm=5.2785, vbm=-0.7508, efermi=-0.74556155, spin_polarization=None)}, 'd': {'1': DosSummaryData(task_id=MPID(mp-2289143), band_gap=6.0084, cbm=5.2576, vbm=-0.7508, efermi=-0.74556155, spin_polarization=None)}}, magnetic_ordering='NM'),\n",
       " \u001b[1mdos_energy_up\u001b[0;0m=None,\n",
       " \u001b[1mdos_energy_down\u001b[0;0m=None,\n",
       " \u001b[1mis_magnetic\u001b[0;0m=False,\n",
       " \u001b[1mordering\u001b[0;0m='NM',\n",
       " \u001b[1mtotal_magnetization\u001b[0;0m=0.0004174,\n",
       " \u001b[1mtotal_magnetization_normalized_vol\u001b[0;0m=8.2261189765049e-06,\n",
       " \u001b[1mtotal_magnetization_normalized_formula_units\u001b[0;0m=0.0004174,\n",
       " \u001b[1mnum_magnetic_sites\u001b[0;0m=0,\n",
       " \u001b[1mnum_unique_magnetic_sites\u001b[0;0m=0,\n",
       " \u001b[1mtypes_of_magnetic_species\u001b[0;0m=[],\n",
       " \u001b[1mbulk_modulus\u001b[0;0m=None,\n",
       " \u001b[1mshear_modulus\u001b[0;0m=None,\n",
       " \u001b[1muniversal_anisotropy\u001b[0;0m=None,\n",
       " \u001b[1mhomogeneous_poisson\u001b[0;0m=None,\n",
       " \u001b[1me_total\u001b[0;0m=None,\n",
       " \u001b[1me_ionic\u001b[0;0m=None,\n",
       " \u001b[1me_electronic\u001b[0;0m=None,\n",
       " \u001b[1mn\u001b[0;0m=None,\n",
       " \u001b[1me_ij_max\u001b[0;0m=None,\n",
       " \u001b[1mweighted_surface_energy_EV_PER_ANG2\u001b[0;0m=None,\n",
       " \u001b[1mweighted_surface_energy\u001b[0;0m=None,\n",
       " \u001b[1mweighted_work_function\u001b[0;0m=None,\n",
       " \u001b[1msurface_anisotropy\u001b[0;0m=None,\n",
       " \u001b[1mshape_factor\u001b[0;0m=None,\n",
       " \u001b[1mhas_reconstructed\u001b[0;0m=None,\n",
       " \u001b[1mpossible_species\u001b[0;0m=['F-', 'Cs+'],\n",
       " \u001b[1mhas_props\u001b[0;0m={'materials': True, 'thermo': True, 'xas': False, 'grain_boundaries': False, 'chemenv': True, 'electronic_structure': True, 'absorption': False, 'bandstructure': True, 'dos': True, 'magnetism': True, 'elasticity': False, 'dielectric': False, 'piezoelectric': False, 'surface_properties': False, 'oxi_states': True, 'provenance': True, 'charge_density': True, 'eos': False, 'phonon': True, 'insertion_electrodes': False, 'substrates': True},\n",
       " \u001b[1mtheoretical\u001b[0;0m=False,\n",
       " \u001b[1mdatabase_IDs\u001b[0;0m={'icsd': ['icsd-61563']},\n",
       " \u001b[1mfields_not_requested\u001b[0;0m=[]\n",
       " ),\n",
       " \u001b[4m\u001b[1mMPDataDoc<SummaryDoc>\u001b[0;0m\u001b[0;0m(\n",
       " \u001b[1mbuilder_meta\u001b[0;0m=EmmetMeta(emmet_version='0.72.20', pymatgen_version='2023.11.12', pull_request=990, database_version='2023.11.1', build_date=datetime.datetime(2023, 11, 22, 19, 46, 30, 641000), license='BY-C'),\n",
       " \u001b[1mnsites\u001b[0;0m=2,\n",
       " \u001b[1melements\u001b[0;0m=[Element Cs, Element F],\n",
       " \u001b[1mnelements\u001b[0;0m=2,\n",
       " \u001b[1mcomposition\u001b[0;0m=Composition('Cs1 F1'),\n",
       " \u001b[1mcomposition_reduced\u001b[0;0m=Composition('Cs1 F1'),\n",
       " \u001b[1mformula_pretty\u001b[0;0m='CsF',\n",
       " \u001b[1mformula_anonymous\u001b[0;0m='AB',\n",
       " \u001b[1mchemsys\u001b[0;0m='Cs-F',\n",
       " \u001b[1mvolume\u001b[0;0m=54.33221336326164,\n",
       " \u001b[1mdensity\u001b[0;0m=4.642591754438939,\n",
       " \u001b[1mdensity_atomic\u001b[0;0m=27.16610668163082,\n",
       " \u001b[1msymmetry\u001b[0;0m=SymmetryData(crystal_system=<CrystalSystem.cubic: 'Cubic'>, symbol='Fm-3m', number=225, point_group='m-3m', symprec=0.1, version='2.0.2'),\n",
       " \u001b[1mproperty_name\u001b[0;0m='summary',\n",
       " \u001b[1mmaterial_id\u001b[0;0m=MPID(mp-1784),\n",
       " \u001b[1mdeprecated\u001b[0;0m=False,\n",
       " \u001b[1mdeprecation_reasons\u001b[0;0m=None,\n",
       " \u001b[1mlast_updated\u001b[0;0m=datetime.datetime(2023, 11, 22, 19, 46, 30, 641000),\n",
       " \u001b[1morigins\u001b[0;0m=[PropertyOrigin(name='structure', task_id=MPID(mp-1948655), last_updated=datetime.datetime(2021, 3, 4, 5, 36, 52, 258000)), PropertyOrigin(name='energy', task_id=MPID(mp-1948655), last_updated=datetime.datetime(2023, 8, 3, 19, 45, 14, 470000)), PropertyOrigin(name='magnetism', task_id=MPID(mp-1948655), last_updated=datetime.datetime(2021, 3, 4, 5, 36, 52, 258000)), PropertyOrigin(name='dielectric', task_id=MPID(mp-1543149), last_updated=datetime.datetime(2020, 5, 9, 7, 41, 21, 264000))],\n",
       " \u001b[1mwarnings\u001b[0;0m=[],\n",
       " \u001b[1mstructure\u001b[0;0m=Structure Summary\n",
       " Lattice\n",
       "     abc : 4.251323182690102 4.251323061493782 4.25132308\n",
       "  angles : 60.00000779266734 60.000008735700966 60.000000298530075\n",
       "  volume : 54.33221336326164\n",
       "       A : 3.6817542 0.0 2.12566103\n",
       "       B : 1.22725174 3.47119088 2.12566103\n",
       "       C : -0.0 -0.0 4.25132308\n",
       "     pbc : True True True\n",
       " PeriodicSite: Cs (0.0, 0.0, 0.0) [0.0, 0.0, -0.0]\n",
       " PeriodicSite: F (2.455, 1.736, 4.251) [0.5, 0.5, 0.5],\n",
       " \u001b[1mtask_ids\u001b[0;0m=[MPID(mp-1947261), MPID(mp-2056592), MPID(mp-657056), MPID(mp-2388604), MPID(mp-1439285), MPID(mp-2297543), MPID(mp-2388633), MPID(mp-1948655), MPID(mp-657054), MPID(mp-1792398), MPID(mp-2300857), MPID(mp-2388815), MPID(mp-2388793), MPID(mp-1784), MPID(mp-2388647), MPID(mp-1538441), MPID(mp-2291732), MPID(mp-1539628), MPID(mp-657052), MPID(mp-1687482), MPID(mp-2707248), MPID(mp-1543149), MPID(mp-1589295), MPID(mp-2388872), MPID(mp-2341918)],\n",
       " \u001b[1muncorrected_energy_per_atom\u001b[0;0m=-16.95051235,\n",
       " \u001b[1menergy_per_atom\u001b[0;0m=-16.95051235,\n",
       " \u001b[1mformation_energy_per_atom\u001b[0;0m=-2.839082803750001,\n",
       " \u001b[1menergy_above_hull\u001b[0;0m=0.0,\n",
       " \u001b[1mis_stable\u001b[0;0m=True,\n",
       " \u001b[1mequilibrium_reaction_energy_per_atom\u001b[0;0m=-2.839082803750001,\n",
       " \u001b[1mdecomposes_to\u001b[0;0m=None,\n",
       " \u001b[1mxas\u001b[0;0m=[XASSearchData(edge=<Edge.L3: 'L3'>, absorbing_element=Element Cs, spectrum_type=<Type.XANES: 'XANES'>), XASSearchData(edge=<Edge.K: 'K'>, absorbing_element=Element Cs, spectrum_type=<Type.XANES: 'XANES'>), XASSearchData(edge=<Edge.L2: 'L2'>, absorbing_element=Element Cs, spectrum_type=<Type.XANES: 'XANES'>), XASSearchData(edge=<Edge.K: 'K'>, absorbing_element=Element F, spectrum_type=<Type.XANES: 'XANES'>), XASSearchData(edge=<Edge.K: 'K'>, absorbing_element=Element Cs, spectrum_type=<Type.XAFS: 'XAFS'>), XASSearchData(edge=<Edge.K: 'K'>, absorbing_element=Element F, spectrum_type=<Type.XAFS: 'XAFS'>), XASSearchData(edge=<Edge.K: 'K'>, absorbing_element=Element Cs, spectrum_type=<Type.EXAFS: 'EXAFS'>), XASSearchData(edge=<Edge.K: 'K'>, absorbing_element=Element F, spectrum_type=<Type.EXAFS: 'EXAFS'>)],\n",
       " \u001b[1mgrain_boundaries\u001b[0;0m=None,\n",
       " \u001b[1mband_gap\u001b[0;0m=5.2626,\n",
       " \u001b[1mcbm\u001b[0;0m=3.9629,\n",
       " \u001b[1mvbm\u001b[0;0m=-1.2997,\n",
       " \u001b[1mefermi\u001b[0;0m=-1.19267444,\n",
       " \u001b[1mis_gap_direct\u001b[0;0m=False,\n",
       " \u001b[1mis_metal\u001b[0;0m=False,\n",
       " \u001b[1mes_source_calc_id\u001b[0;0m=None,\n",
       " \u001b[1mbandstructure\u001b[0;0m=BandstructureData(setyawan_curtarolo=BandStructureSummaryData(task_id=MPID(mp-1589295), band_gap=5.2626, cbm={'band_index': {'1': [8]}, 'kpoint_index': [0, 65, 66], 'kpoint': <pymatgen.electronic_structure.bandstructure.Kpoint object at 0x0000025E3670F950>, 'energy': 3.9629, 'projections': {'1': [[0.1147, 0.035], [0.0, 0.0], [0.0, 0.0], [0.0, 0.0], [0.0, 0.0], [0.0, 0.0], [0.0, 0.0], [0.0, 0.0], [0.0, 0.0]]}}, vbm={'band_index': {'1': [7]}, 'kpoint_index': [21, 22, 146], 'kpoint': <pymatgen.electronic_structure.bandstructure.Kpoint object at 0x0000025E36712650>, 'energy': -1.2997, 'projections': {'1': [[0.0, 0.0], [0.0874, 0.7165], [0.0, 0.0], [0.0, 0.0], [0.0, 0.0], [0.0, 0.0], [0.0, 0.0], [0.0, 0.0], [0.0, 0.0]]}}, efermi=-1.19267444, is_gap_direct=False, is_metal=False, magnetic_ordering='NM', nbands=96.0, equivalent_labels={'setyawan_curtarolo': {'latimer_munro': {'\\\\Gamma': 'Γ', 'K': 'q_{1}', 'L': 'a', 'U': 'q', 'W': 'r', 'X': 'd'}, 'hinuma': {'\\\\Gamma': 'GAMMA', 'K': 'K', 'L': 'L', 'U': 'U', 'W': 'W', 'X': 'X'}}, 'latimer_munro': {'setyawan_curtarolo': {'q': 'U', 'd': 'X', 'a': 'L', 'Γ': '\\\\Gamma', 'r': 'W', 'q_{1}': 'K'}, 'hinuma': {'q': 'U', 'd': 'X', 'a': 'L', 'Γ': 'GAMMA', 'r': 'W', 'q_{1}': 'K'}}, 'hinuma': {'setyawan_curtarolo': {'GAMMA': '\\\\Gamma', 'X': 'X', 'L': 'L', 'W': 'W', 'K': 'K', 'U': 'U', 'W_2': 'W^{*}'}, 'latimer_munro': {'GAMMA': 'Γ', 'X': 'd', 'L': 'a', 'W': 'r', 'K': 'q_{1}', 'U': 'q', 'W_2': 'r^{*}'}}}, direct_gap=5.5389), hinuma=BandStructureSummaryData(task_id=MPID(mp-2056592), band_gap=5.2626, cbm={'band_index': {'1': [8]}, 'kpoint_index': [0, 53, 54], 'kpoint': <pymatgen.electronic_structure.bandstructure.Kpoint object at 0x0000025E36710A50>, 'energy': 3.9629, 'projections': {'1': [[0.1147, 0.035], [0.0, 0.0], [0.0, 0.0], [0.0, 0.0], [0.0, 0.0], [0.0, 0.0], [0.0, 0.0], [0.0, 0.0], [0.0, 0.0]]}}, vbm={'band_index': {'1': [7]}, 'kpoint_index': [21, 22, 100], 'kpoint': <pymatgen.electronic_structure.bandstructure.Kpoint object at 0x0000025E36710E90>, 'energy': -1.2997, 'projections': {'1': [[0.0, 0.0], [0.0874, 0.7165], [0.0, 0.0], [0.0, 0.0], [0.0, 0.0], [0.0, 0.0], [0.0, 0.0], [0.0, 0.0], [0.0, 0.0]]}}, efermi=-1.19267444, is_gap_direct=False, is_metal=False, magnetic_ordering='NM', nbands=96.0, equivalent_labels={'setyawan_curtarolo': {'latimer_munro': {'\\\\Gamma': 'Γ', 'K': 'q_{1}', 'L': 'a', 'U': 'q', 'W': 'r', 'X': 'd'}, 'hinuma': {'\\\\Gamma': 'GAMMA', 'K': 'K', 'L': 'L', 'U': 'U', 'W': 'W', 'X': 'X'}}, 'latimer_munro': {'setyawan_curtarolo': {'q': 'U', 'd': 'X', 'a': 'L', 'Γ': '\\\\Gamma', 'r': 'W', 'q_{1}': 'K'}, 'hinuma': {'q': 'U', 'd': 'X', 'a': 'L', 'Γ': 'GAMMA', 'r': 'W', 'q_{1}': 'K'}}, 'hinuma': {'setyawan_curtarolo': {'GAMMA': '\\\\Gamma', 'X': 'X', 'L': 'L', 'W': 'W', 'K': 'K', 'U': 'U', 'W_2': 'W^{*}'}, 'latimer_munro': {'GAMMA': 'Γ', 'X': 'd', 'L': 'a', 'W': 'r', 'K': 'q_{1}', 'U': 'q', 'W_2': 'r^{*}'}}}, direct_gap=5.5389), latimer_munro=BandStructureSummaryData(task_id=MPID(mp-2341918), band_gap=5.2626, cbm={'band_index': {'1': [8]}, 'kpoint_index': [32, 33, 125, 126, 148], 'kpoint': <pymatgen.electronic_structure.bandstructure.Kpoint object at 0x0000025E367117D0>, 'energy': 3.9629, 'projections': {'1': [[0.1147, 0.035], [0.0, 0.0], [0.0, 0.0], [0.0, 0.0], [0.0, 0.0], [0.0, 0.0], [0.0, 0.0], [0.0, 0.0], [0.0, 0.0]]}}, vbm={'band_index': {'1': [7]}, 'kpoint_index': [64, 65, 147], 'kpoint': <pymatgen.electronic_structure.bandstructure.Kpoint object at 0x0000025E36711C10>, 'energy': -1.2997, 'projections': {'1': [[0.0, 0.0], [0.0, 0.0], [0.0874, 0.7165], [0.0, 0.0], [0.0, 0.0], [0.0, 0.0], [0.0, 0.0], [0.0, 0.0], [0.0, 0.0]]}}, efermi=-1.18889129, is_gap_direct=False, is_metal=False, magnetic_ordering='NM', nbands=96.0, equivalent_labels={'setyawan_curtarolo': {'latimer_munro': {'\\\\Gamma': 'Γ', 'K': 'q_{1}', 'L': 'a', 'U': 'q', 'W': 'r', 'X': 'd'}, 'hinuma': {'\\\\Gamma': 'GAMMA', 'K': 'K', 'L': 'L', 'U': 'U', 'W': 'W', 'X': 'X'}}, 'latimer_munro': {'setyawan_curtarolo': {'q': 'U', 'd': 'X', 'a': 'L', 'Γ': '\\\\Gamma', 'r': 'W', 'q_{1}': 'K'}, 'hinuma': {'q': 'U', 'd': 'X', 'a': 'L', 'Γ': 'GAMMA', 'r': 'W', 'q_{1}': 'K'}}, 'hinuma': {'setyawan_curtarolo': {'GAMMA': '\\\\Gamma', 'X': 'X', 'L': 'L', 'W': 'W', 'K': 'K', 'U': 'U', 'W_2': 'W^{*}'}, 'latimer_munro': {'GAMMA': 'Γ', 'X': 'd', 'L': 'a', 'W': 'r', 'K': 'q_{1}', 'U': 'q', 'W_2': 'r^{*}'}}}, direct_gap=5.5389)),\n",
       " \u001b[1mdos\u001b[0;0m=DosData(total={'1': DosSummaryData(task_id=MPID(mp-2291732), band_gap=5.2798, cbm=3.9798, vbm=-1.3, efermi=-1.29485376, spin_polarization=None)}, elemental={Element Cs: {'total': {'1': DosSummaryData(task_id=MPID(mp-2291732), band_gap=5.2798, cbm=3.9798, vbm=-1.3, efermi=-1.29485376, spin_polarization=None)}, 's': {'1': DosSummaryData(task_id=MPID(mp-2291732), band_gap=5.2798, cbm=3.9798, vbm=-1.3, efermi=-1.29485376, spin_polarization=None)}, 'p': {'1': DosSummaryData(task_id=MPID(mp-2291732), band_gap=5.3614, cbm=4.0614, vbm=-1.3, efermi=-1.29485376, spin_polarization=None)}, 'd': {'1': DosSummaryData(task_id=MPID(mp-2291732), band_gap=5.6875, cbm=4.3875, vbm=-1.3, efermi=-1.29485376, spin_polarization=None)}}, Element F: {'total': {'1': DosSummaryData(task_id=MPID(mp-2291732), band_gap=5.2798, cbm=3.9798, vbm=-1.3, efermi=-1.29485376, spin_polarization=None)}, 's': {'1': DosSummaryData(task_id=MPID(mp-2291732), band_gap=5.3001000000000005, cbm=3.9798, vbm=-1.3203, efermi=-1.29485376, spin_polarization=None)}, 'p': {'1': DosSummaryData(task_id=MPID(mp-2291732), band_gap=5.3614, cbm=4.0614, vbm=-1.3, efermi=-1.29485376, spin_polarization=None)}, 'd': {'1': DosSummaryData(task_id=MPID(mp-2291732), band_gap=40.7705, cbm=18.3514, vbm=-22.4191, efermi=-1.29485376, spin_polarization=None)}}}, orbital={'s': {'1': DosSummaryData(task_id=MPID(mp-2291732), band_gap=5.2798, cbm=3.9798, vbm=-1.3, efermi=-1.29485376, spin_polarization=None)}, 'p': {'1': DosSummaryData(task_id=MPID(mp-2291732), band_gap=5.3614, cbm=4.0614, vbm=-1.3, efermi=-1.29485376, spin_polarization=None)}, 'd': {'1': DosSummaryData(task_id=MPID(mp-2291732), band_gap=5.6875, cbm=4.3875, vbm=-1.3, efermi=-1.29485376, spin_polarization=None)}}, magnetic_ordering='NM'),\n",
       " \u001b[1mdos_energy_up\u001b[0;0m=None,\n",
       " \u001b[1mdos_energy_down\u001b[0;0m=None,\n",
       " \u001b[1mis_magnetic\u001b[0;0m=False,\n",
       " \u001b[1mordering\u001b[0;0m='NM',\n",
       " \u001b[1mtotal_magnetization\u001b[0;0m=0.0,\n",
       " \u001b[1mtotal_magnetization_normalized_vol\u001b[0;0m=0.0,\n",
       " \u001b[1mtotal_magnetization_normalized_formula_units\u001b[0;0m=0.0,\n",
       " \u001b[1mnum_magnetic_sites\u001b[0;0m=0,\n",
       " \u001b[1mnum_unique_magnetic_sites\u001b[0;0m=0,\n",
       " \u001b[1mtypes_of_magnetic_species\u001b[0;0m=[],\n",
       " \u001b[1mbulk_modulus\u001b[0;0m={'voigt': 21.461, 'reuss': 21.461, 'vrh': 21.461},\n",
       " \u001b[1mshear_modulus\u001b[0;0m={'voigt': 10.193, 'reuss': 9.535, 'vrh': 9.864},\n",
       " \u001b[1muniversal_anisotropy\u001b[0;0m=0.345,\n",
       " \u001b[1mhomogeneous_poisson\u001b[0;0m=0.301,\n",
       " \u001b[1me_total\u001b[0;0m=9.897891079999985,\n",
       " \u001b[1me_ionic\u001b[0;0m=7.607645193333322,\n",
       " \u001b[1me_electronic\u001b[0;0m=2.2902458866666624,\n",
       " \u001b[1mn\u001b[0;0m=1.5133558361028852,\n",
       " \u001b[1me_ij_max\u001b[0;0m=None,\n",
       " \u001b[1mweighted_surface_energy_EV_PER_ANG2\u001b[0;0m=None,\n",
       " \u001b[1mweighted_surface_energy\u001b[0;0m=None,\n",
       " \u001b[1mweighted_work_function\u001b[0;0m=None,\n",
       " \u001b[1msurface_anisotropy\u001b[0;0m=None,\n",
       " \u001b[1mshape_factor\u001b[0;0m=None,\n",
       " \u001b[1mhas_reconstructed\u001b[0;0m=None,\n",
       " \u001b[1mpossible_species\u001b[0;0m=['F-', 'Cs+'],\n",
       " \u001b[1mhas_props\u001b[0;0m={'materials': True, 'thermo': True, 'xas': True, 'grain_boundaries': False, 'chemenv': True, 'electronic_structure': True, 'absorption': False, 'bandstructure': True, 'dos': True, 'magnetism': True, 'elasticity': True, 'dielectric': True, 'piezoelectric': False, 'surface_properties': False, 'oxi_states': True, 'provenance': True, 'charge_density': True, 'eos': False, 'phonon': True, 'insertion_electrodes': False, 'substrates': True},\n",
       " \u001b[1mtheoretical\u001b[0;0m=False,\n",
       " \u001b[1mdatabase_IDs\u001b[0;0m={'icsd': ['icsd-53832', 'icsd-44288']},\n",
       " \u001b[1mfields_not_requested\u001b[0;0m=[]\n",
       " )]"
      ]
     },
     "execution_count": 78,
     "metadata": {},
     "output_type": "execute_result"
    }
   ],
   "source": [
    "doc11 = mpr.summary.search(formula=[\"CsF\"])\n",
    "doc11"
   ]
  },
  {
   "cell_type": "code",
   "execution_count": null,
   "id": "243b7b9e-b1fa-4738-823e-55aad649824f",
   "metadata": {},
   "outputs": [],
   "source": []
  },
  {
   "cell_type": "code",
   "execution_count": null,
   "id": "e13fd18f-4e75-4c27-96e7-8dda5f602b76",
   "metadata": {},
   "outputs": [],
   "source": []
  }
 ],
 "metadata": {
  "kernelspec": {
   "display_name": "py37",
   "language": "python",
   "name": "py37"
  },
  "language_info": {
   "codemirror_mode": {
    "name": "ipython",
    "version": 3
   },
   "file_extension": ".py",
   "mimetype": "text/x-python",
   "name": "python",
   "nbconvert_exporter": "python",
   "pygments_lexer": "ipython3",
   "version": "3.11.5"
  }
 },
 "nbformat": 4,
 "nbformat_minor": 5
}
