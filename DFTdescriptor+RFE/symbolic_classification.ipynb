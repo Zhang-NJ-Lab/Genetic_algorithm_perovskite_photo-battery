{
 "cells": [
  {
   "cell_type": "code",
   "execution_count": 1,
   "id": "14342277-d8e9-450e-b665-cc4974a44835",
   "metadata": {
    "tags": []
   },
   "outputs": [],
   "source": [
    "import pickle\n",
    "import matplotlib.pyplot as plot\n",
    "import seaborn as sns\n",
    "import matplotlib.pyplot as plt\n",
    "from sklearn import svm\n",
    "import numpy as np\n",
    "import pandas as pd\n",
    "from sklearn import preprocessing\n",
    "from pandas import DataFrame\n",
    "from sklearn.gaussian_process.kernels import RBF\n",
    "from sklearn.model_selection import KFold\n",
    "from sklearn.metrics import roc_curve, auc\n",
    "from sklearn.metrics import confusion_matrix\n",
    "from sklearn.model_selection import train_test_split\n",
    "from sklearn.metrics import accuracy_score\n",
    "from sklearn.metrics import f1_score\n",
    "from sklearn.svm import SVC\n",
    "from sklearn.model_selection import GridSearchCV\n",
    "import pickle\n",
    "from gplearn.genetic import SymbolicClassifier\n",
    "from sklearn.metrics import mean_squared_error\n",
    "import numpy as np\n",
    "from sklearn.tree import export_graphviz\n",
    "import pydotplus\n",
    "import graphviz\n",
    "from io import StringIO\n",
    "from IPython.display import Image"
   ]
  },
  {
   "cell_type": "code",
   "execution_count": 20,
   "id": "6753ce25-58e3-4b33-ba35-d4ff3cf50ac9",
   "metadata": {
    "tags": []
   },
   "outputs": [],
   "source": [
    "dataset= r'TrainTest_minus0.1_minus3.csv'\n",
    "data=pd.DataFrame(pd.read_csv(dataset))"
   ]
  },
  {
   "cell_type": "code",
   "execution_count": 21,
   "id": "5aad9eab-9033-48e7-8089-14c77ab8d102",
   "metadata": {
    "tags": []
   },
   "outputs": [],
   "source": [
    "import pandas as pd\n",
    "import seaborn as sns\n",
    "import matplotlib.pyplot as plt\n",
    "all_Data=data.iloc[:,:]\n",
    "global corMat\n",
    "corMat = pd.DataFrame(all_Data.corr())  #corr 求相关系数矩阵\n",
    "corMat.to_csv('heatmap-before.csv')\n",
    "plt.figure(figsize=(20, 30))\n",
    "sns.heatmap(corMat, annot=False, vmax=1, square=True, cmap=\"Blues\",linewidths=0)\n",
    "plt.savefig('heatmap-before.png', dpi=300, bbox_inches = 'tight')\n",
    "plt.close()"
   ]
  },
  {
   "cell_type": "code",
   "execution_count": 22,
   "id": "b6b58a4c-e404-4591-a9d0-5eb5d119baa1",
   "metadata": {
    "scrolled": true,
    "tags": []
   },
   "outputs": [
    {
     "name": "stdout",
     "output_type": "stream",
     "text": [
      "特征是否被选中：\n",
      " [False False False False False False False False False False False False\n",
      " False False False False False False False False False False False False\n",
      " False  True False False False False False  True False False False False\n",
      " False False  True False False False False False False False False False\n",
      " False False False False False False False  True False False False False\n",
      " False False False False False False False  True False False False False]\n",
      "获取的数据特征尺寸: (640, 5)\n",
      "最后的特征s_rfe: ['A2 Specific Heat' 'Ion Specific Heat' 'X4 Density' 'Ion Firstlonization'\n",
      " 'X1 Melting Point']\n",
      "目标target:      Adsorption energy(ev)\n",
      "0                        0\n",
      "1                        0\n",
      "2                        0\n",
      "3                        0\n",
      "4                        0\n",
      "..                     ...\n",
      "635                      0\n",
      "636                      0\n",
      "637                      0\n",
      "638                      0\n",
      "639                      0\n",
      "\n",
      "[640 rows x 1 columns]\n",
      "rfe后的总数据data_rfe:      A2 Specific Heat  Ion Specific Heat  X4 Density  Ion Firstlonization  \\\n",
      "0               3.582              0.897     0.00321               5.9858   \n",
      "1               1.228              0.897     0.00321               5.9858   \n",
      "2               3.582              0.388     0.00321               9.3942   \n",
      "3               3.582              0.897     0.00170               5.9858   \n",
      "4               1.228              0.897     0.00170               5.9858   \n",
      "..                ...                ...         ...                  ...   \n",
      "635             1.228              0.824     0.00170              17.4228   \n",
      "636             1.228              0.824     0.00170              17.4228   \n",
      "637             3.582              0.824     0.00170              17.4228   \n",
      "638             3.582              0.824     0.00321              17.4228   \n",
      "639             3.582              0.824     0.00170              17.4228   \n",
      "\n",
      "     X1 Melting Point  Adsorption energy(ev)  \n",
      "0              172.31                      0  \n",
      "1               53.63                      0  \n",
      "2              172.31                      0  \n",
      "3               53.63                      0  \n",
      "4               53.63                      0  \n",
      "..                ...                    ...  \n",
      "635             53.63                      0  \n",
      "636             53.63                      0  \n",
      "637             53.63                      0  \n",
      "638             53.63                      0  \n",
      "639             53.63                      0  \n",
      "\n",
      "[640 rows x 6 columns]\n"
     ]
    }
   ],
   "source": [
    "# 使用随机森林的rfe:RandomForestRegressor()\n",
    "from sklearn import preprocessing\n",
    "from sklearn.feature_selection import RFE, RFECV\n",
    "from sklearn.ensemble import RandomForestRegressor\n",
    "import csv\n",
    "import numpy as np\n",
    "\n",
    "# 输入数据归一化\n",
    "X = data.values[:, :-1]\n",
    "for i in range(X.shape[1]):\n",
    "    X[:, [i]] = preprocessing.MinMaxScaler().fit_transform(X[:, [i]])\n",
    "y = data.values[:, -1]  # 目标数值\n",
    "\n",
    "# rfe步骤\n",
    "remain_number = 5\n",
    "model = RandomForestRegressor()\n",
    "rfe = RFE(estimator=model, n_features_to_select=remain_number, step=1)\n",
    "rfe_X = rfe.fit_transform(X, y)\n",
    "print(\"特征是否被选中：\\n\", rfe.support_)                                          # ndarray\n",
    "print(\"获取的数据特征尺寸:\", rfe_X.shape)                                           # tuple\n",
    "list1 = rfe.support_.tolist()\n",
    "\n",
    "# 打印rfe后的特征，但可能包含空值\n",
    "import pandas as pd\n",
    "Features_0 = pd.DataFrame(data=data.iloc[:, :-1].columns, columns=['Features'])\n",
    "Features_0\n",
    "Features_rfe = pd.DataFrame(data=rfe.support_, columns=['whether selected'])\n",
    "Features_rfe\n",
    "#     pd.options.display.max_rows=None\n",
    "p = pd.concat([Features_0, Features_rfe], axis=1)\n",
    "q = p[p['whether selected']>0]\n",
    "r = q.reset_index(drop=True)\n",
    "global s_rfe\n",
    "s_rfe = pd.DataFrame(data=data,columns=r.Features.values)\n",
    "global target\n",
    "target = pd.DataFrame(data=data.iloc[:,-1])\n",
    "# target = pd.DataFrame(data, columns=['Potential (v)'])\n",
    "global data_rfe\n",
    "data_rfe = pd.concat([s_rfe,target], axis=1)\n",
    "print(\"最后的特征s_rfe:\", r.Features.values)                                        # ndarray\n",
    "print(\"目标target:\", target)\n",
    "print(\"rfe后的总数据data_rfe:\", data_rfe)\n",
    "\n",
    "list2 = r.Features.values.tolist()\n",
    "\n",
    "# print全输出\n",
    "with open(\"data.txt\", \"w\") as f:\n",
    "    #f.write(\"特征是否被选中：\\n\")\n",
    "    f.write(\"Whether the feature is selected:\\n\")\n",
    "    for i in range(len(list1)):\n",
    "        f.write(str(list1[i])+' ')\n",
    "    #f.write(\"\\n获取的数据特征尺寸：\\n\")\n",
    "    f.write(\"\\nAcquired data feature size:\\n\")\n",
    "    f.write('(%s,%s)' % rfe_X.shape)\n",
    "    #f.write(\"\\n最后的特征s_rfe：\\n\")\n",
    "    f.write(\"\\nS_rfe(Final feature)：\\n\")\n",
    "    for i in range(len(list2)):\n",
    "        f.write(str(list2[i]) + '\\n')\n",
    "target.to_csv(\"target.csv\")\n",
    "data_rfe.to_csv(\"data_rfe.csv\")"
   ]
  },
  {
   "cell_type": "code",
   "execution_count": 23,
   "id": "0dce4b2b-98dd-4fb9-b522-fbae6a9cf9f6",
   "metadata": {
    "scrolled": true,
    "tags": []
   },
   "outputs": [
    {
     "data": {
      "text/html": [
       "<div>\n",
       "<style scoped>\n",
       "    .dataframe tbody tr th:only-of-type {\n",
       "        vertical-align: middle;\n",
       "    }\n",
       "\n",
       "    .dataframe tbody tr th {\n",
       "        vertical-align: top;\n",
       "    }\n",
       "\n",
       "    .dataframe thead th {\n",
       "        text-align: right;\n",
       "    }\n",
       "</style>\n",
       "<table border=\"1\" class=\"dataframe\">\n",
       "  <thead>\n",
       "    <tr style=\"text-align: right;\">\n",
       "      <th></th>\n",
       "      <th>A2 Specific Heat</th>\n",
       "      <th>Ion Specific Heat</th>\n",
       "      <th>X4 Density</th>\n",
       "      <th>Ion Firstlonization</th>\n",
       "      <th>X1 Melting Point</th>\n",
       "      <th>Adsorption energy(ev)</th>\n",
       "    </tr>\n",
       "  </thead>\n",
       "  <tbody>\n",
       "    <tr>\n",
       "      <th>0</th>\n",
       "      <td>3.582</td>\n",
       "      <td>0.897</td>\n",
       "      <td>0.00321</td>\n",
       "      <td>5.9858</td>\n",
       "      <td>172.31</td>\n",
       "      <td>0</td>\n",
       "    </tr>\n",
       "    <tr>\n",
       "      <th>1</th>\n",
       "      <td>1.228</td>\n",
       "      <td>0.897</td>\n",
       "      <td>0.00321</td>\n",
       "      <td>5.9858</td>\n",
       "      <td>53.63</td>\n",
       "      <td>0</td>\n",
       "    </tr>\n",
       "    <tr>\n",
       "      <th>2</th>\n",
       "      <td>3.582</td>\n",
       "      <td>0.388</td>\n",
       "      <td>0.00321</td>\n",
       "      <td>9.3942</td>\n",
       "      <td>172.31</td>\n",
       "      <td>0</td>\n",
       "    </tr>\n",
       "    <tr>\n",
       "      <th>3</th>\n",
       "      <td>3.582</td>\n",
       "      <td>0.897</td>\n",
       "      <td>0.00170</td>\n",
       "      <td>5.9858</td>\n",
       "      <td>53.63</td>\n",
       "      <td>0</td>\n",
       "    </tr>\n",
       "    <tr>\n",
       "      <th>4</th>\n",
       "      <td>1.228</td>\n",
       "      <td>0.897</td>\n",
       "      <td>0.00170</td>\n",
       "      <td>5.9858</td>\n",
       "      <td>53.63</td>\n",
       "      <td>0</td>\n",
       "    </tr>\n",
       "    <tr>\n",
       "      <th>...</th>\n",
       "      <td>...</td>\n",
       "      <td>...</td>\n",
       "      <td>...</td>\n",
       "      <td>...</td>\n",
       "      <td>...</td>\n",
       "      <td>...</td>\n",
       "    </tr>\n",
       "    <tr>\n",
       "      <th>635</th>\n",
       "      <td>1.228</td>\n",
       "      <td>0.824</td>\n",
       "      <td>0.00170</td>\n",
       "      <td>17.4228</td>\n",
       "      <td>53.63</td>\n",
       "      <td>0</td>\n",
       "    </tr>\n",
       "    <tr>\n",
       "      <th>636</th>\n",
       "      <td>1.228</td>\n",
       "      <td>0.824</td>\n",
       "      <td>0.00170</td>\n",
       "      <td>17.4228</td>\n",
       "      <td>53.63</td>\n",
       "      <td>0</td>\n",
       "    </tr>\n",
       "    <tr>\n",
       "      <th>637</th>\n",
       "      <td>3.582</td>\n",
       "      <td>0.824</td>\n",
       "      <td>0.00170</td>\n",
       "      <td>17.4228</td>\n",
       "      <td>53.63</td>\n",
       "      <td>0</td>\n",
       "    </tr>\n",
       "    <tr>\n",
       "      <th>638</th>\n",
       "      <td>3.582</td>\n",
       "      <td>0.824</td>\n",
       "      <td>0.00321</td>\n",
       "      <td>17.4228</td>\n",
       "      <td>53.63</td>\n",
       "      <td>0</td>\n",
       "    </tr>\n",
       "    <tr>\n",
       "      <th>639</th>\n",
       "      <td>3.582</td>\n",
       "      <td>0.824</td>\n",
       "      <td>0.00170</td>\n",
       "      <td>17.4228</td>\n",
       "      <td>53.63</td>\n",
       "      <td>0</td>\n",
       "    </tr>\n",
       "  </tbody>\n",
       "</table>\n",
       "<p>640 rows × 6 columns</p>\n",
       "</div>"
      ],
      "text/plain": [
       "     A2 Specific Heat  Ion Specific Heat  X4 Density  Ion Firstlonization  \\\n",
       "0               3.582              0.897     0.00321               5.9858   \n",
       "1               1.228              0.897     0.00321               5.9858   \n",
       "2               3.582              0.388     0.00321               9.3942   \n",
       "3               3.582              0.897     0.00170               5.9858   \n",
       "4               1.228              0.897     0.00170               5.9858   \n",
       "..                ...                ...         ...                  ...   \n",
       "635             1.228              0.824     0.00170              17.4228   \n",
       "636             1.228              0.824     0.00170              17.4228   \n",
       "637             3.582              0.824     0.00170              17.4228   \n",
       "638             3.582              0.824     0.00321              17.4228   \n",
       "639             3.582              0.824     0.00170              17.4228   \n",
       "\n",
       "     X1 Melting Point  Adsorption energy(ev)  \n",
       "0              172.31                      0  \n",
       "1               53.63                      0  \n",
       "2              172.31                      0  \n",
       "3               53.63                      0  \n",
       "4               53.63                      0  \n",
       "..                ...                    ...  \n",
       "635             53.63                      0  \n",
       "636             53.63                      0  \n",
       "637             53.63                      0  \n",
       "638             53.63                      0  \n",
       "639             53.63                      0  \n",
       "\n",
       "[640 rows x 6 columns]"
      ]
     },
     "execution_count": 23,
     "metadata": {},
     "output_type": "execute_result"
    }
   ],
   "source": [
    "data_rfe"
   ]
  },
  {
   "cell_type": "code",
   "execution_count": 24,
   "id": "ca24a404-e4ec-4124-af18-cd1ad2fe346d",
   "metadata": {
    "tags": []
   },
   "outputs": [
    {
     "data": {
      "text/html": [
       "<div>\n",
       "<style scoped>\n",
       "    .dataframe tbody tr th:only-of-type {\n",
       "        vertical-align: middle;\n",
       "    }\n",
       "\n",
       "    .dataframe tbody tr th {\n",
       "        vertical-align: top;\n",
       "    }\n",
       "\n",
       "    .dataframe thead th {\n",
       "        text-align: right;\n",
       "    }\n",
       "</style>\n",
       "<table border=\"1\" class=\"dataframe\">\n",
       "  <thead>\n",
       "    <tr style=\"text-align: right;\">\n",
       "      <th></th>\n",
       "      <th>A2 Specific Heat</th>\n",
       "      <th>Ion Specific Heat</th>\n",
       "      <th>X4 Density</th>\n",
       "      <th>Ion Firstlonization</th>\n",
       "      <th>X1 Melting Point</th>\n",
       "    </tr>\n",
       "  </thead>\n",
       "  <tbody>\n",
       "    <tr>\n",
       "      <th>0</th>\n",
       "      <td>3.582</td>\n",
       "      <td>0.897</td>\n",
       "      <td>0.00321</td>\n",
       "      <td>5.9858</td>\n",
       "      <td>172.31</td>\n",
       "    </tr>\n",
       "    <tr>\n",
       "      <th>1</th>\n",
       "      <td>1.228</td>\n",
       "      <td>0.897</td>\n",
       "      <td>0.00321</td>\n",
       "      <td>5.9858</td>\n",
       "      <td>53.63</td>\n",
       "    </tr>\n",
       "    <tr>\n",
       "      <th>2</th>\n",
       "      <td>3.582</td>\n",
       "      <td>0.388</td>\n",
       "      <td>0.00321</td>\n",
       "      <td>9.3942</td>\n",
       "      <td>172.31</td>\n",
       "    </tr>\n",
       "    <tr>\n",
       "      <th>3</th>\n",
       "      <td>3.582</td>\n",
       "      <td>0.897</td>\n",
       "      <td>0.00170</td>\n",
       "      <td>5.9858</td>\n",
       "      <td>53.63</td>\n",
       "    </tr>\n",
       "    <tr>\n",
       "      <th>4</th>\n",
       "      <td>1.228</td>\n",
       "      <td>0.897</td>\n",
       "      <td>0.00170</td>\n",
       "      <td>5.9858</td>\n",
       "      <td>53.63</td>\n",
       "    </tr>\n",
       "    <tr>\n",
       "      <th>...</th>\n",
       "      <td>...</td>\n",
       "      <td>...</td>\n",
       "      <td>...</td>\n",
       "      <td>...</td>\n",
       "      <td>...</td>\n",
       "    </tr>\n",
       "    <tr>\n",
       "      <th>635</th>\n",
       "      <td>1.228</td>\n",
       "      <td>0.824</td>\n",
       "      <td>0.00170</td>\n",
       "      <td>17.4228</td>\n",
       "      <td>53.63</td>\n",
       "    </tr>\n",
       "    <tr>\n",
       "      <th>636</th>\n",
       "      <td>1.228</td>\n",
       "      <td>0.824</td>\n",
       "      <td>0.00170</td>\n",
       "      <td>17.4228</td>\n",
       "      <td>53.63</td>\n",
       "    </tr>\n",
       "    <tr>\n",
       "      <th>637</th>\n",
       "      <td>3.582</td>\n",
       "      <td>0.824</td>\n",
       "      <td>0.00170</td>\n",
       "      <td>17.4228</td>\n",
       "      <td>53.63</td>\n",
       "    </tr>\n",
       "    <tr>\n",
       "      <th>638</th>\n",
       "      <td>3.582</td>\n",
       "      <td>0.824</td>\n",
       "      <td>0.00321</td>\n",
       "      <td>17.4228</td>\n",
       "      <td>53.63</td>\n",
       "    </tr>\n",
       "    <tr>\n",
       "      <th>639</th>\n",
       "      <td>3.582</td>\n",
       "      <td>0.824</td>\n",
       "      <td>0.00170</td>\n",
       "      <td>17.4228</td>\n",
       "      <td>53.63</td>\n",
       "    </tr>\n",
       "  </tbody>\n",
       "</table>\n",
       "<p>640 rows × 5 columns</p>\n",
       "</div>"
      ],
      "text/plain": [
       "     A2 Specific Heat  Ion Specific Heat  X4 Density  Ion Firstlonization  \\\n",
       "0               3.582              0.897     0.00321               5.9858   \n",
       "1               1.228              0.897     0.00321               5.9858   \n",
       "2               3.582              0.388     0.00321               9.3942   \n",
       "3               3.582              0.897     0.00170               5.9858   \n",
       "4               1.228              0.897     0.00170               5.9858   \n",
       "..                ...                ...         ...                  ...   \n",
       "635             1.228              0.824     0.00170              17.4228   \n",
       "636             1.228              0.824     0.00170              17.4228   \n",
       "637             3.582              0.824     0.00170              17.4228   \n",
       "638             3.582              0.824     0.00321              17.4228   \n",
       "639             3.582              0.824     0.00170              17.4228   \n",
       "\n",
       "     X1 Melting Point  \n",
       "0              172.31  \n",
       "1               53.63  \n",
       "2              172.31  \n",
       "3               53.63  \n",
       "4               53.63  \n",
       "..                ...  \n",
       "635             53.63  \n",
       "636             53.63  \n",
       "637             53.63  \n",
       "638             53.63  \n",
       "639             53.63  \n",
       "\n",
       "[640 rows x 5 columns]"
      ]
     },
     "execution_count": 24,
     "metadata": {},
     "output_type": "execute_result"
    }
   ],
   "source": [
    "s_rfe"
   ]
  },
  {
   "cell_type": "code",
   "execution_count": 25,
   "id": "31af9282-d2b3-47ef-833d-77bd2f8a9330",
   "metadata": {
    "scrolled": true,
    "tags": []
   },
   "outputs": [
    {
     "data": {
      "text/html": [
       "<div>\n",
       "<style scoped>\n",
       "    .dataframe tbody tr th:only-of-type {\n",
       "        vertical-align: middle;\n",
       "    }\n",
       "\n",
       "    .dataframe tbody tr th {\n",
       "        vertical-align: top;\n",
       "    }\n",
       "\n",
       "    .dataframe thead th {\n",
       "        text-align: right;\n",
       "    }\n",
       "</style>\n",
       "<table border=\"1\" class=\"dataframe\">\n",
       "  <thead>\n",
       "    <tr style=\"text-align: right;\">\n",
       "      <th></th>\n",
       "      <th>Adsorption energy(ev)</th>\n",
       "    </tr>\n",
       "  </thead>\n",
       "  <tbody>\n",
       "    <tr>\n",
       "      <th>0</th>\n",
       "      <td>0</td>\n",
       "    </tr>\n",
       "    <tr>\n",
       "      <th>1</th>\n",
       "      <td>0</td>\n",
       "    </tr>\n",
       "    <tr>\n",
       "      <th>2</th>\n",
       "      <td>0</td>\n",
       "    </tr>\n",
       "    <tr>\n",
       "      <th>3</th>\n",
       "      <td>0</td>\n",
       "    </tr>\n",
       "    <tr>\n",
       "      <th>4</th>\n",
       "      <td>0</td>\n",
       "    </tr>\n",
       "    <tr>\n",
       "      <th>...</th>\n",
       "      <td>...</td>\n",
       "    </tr>\n",
       "    <tr>\n",
       "      <th>635</th>\n",
       "      <td>0</td>\n",
       "    </tr>\n",
       "    <tr>\n",
       "      <th>636</th>\n",
       "      <td>0</td>\n",
       "    </tr>\n",
       "    <tr>\n",
       "      <th>637</th>\n",
       "      <td>0</td>\n",
       "    </tr>\n",
       "    <tr>\n",
       "      <th>638</th>\n",
       "      <td>0</td>\n",
       "    </tr>\n",
       "    <tr>\n",
       "      <th>639</th>\n",
       "      <td>0</td>\n",
       "    </tr>\n",
       "  </tbody>\n",
       "</table>\n",
       "<p>640 rows × 1 columns</p>\n",
       "</div>"
      ],
      "text/plain": [
       "     Adsorption energy(ev)\n",
       "0                        0\n",
       "1                        0\n",
       "2                        0\n",
       "3                        0\n",
       "4                        0\n",
       "..                     ...\n",
       "635                      0\n",
       "636                      0\n",
       "637                      0\n",
       "638                      0\n",
       "639                      0\n",
       "\n",
       "[640 rows x 1 columns]"
      ]
     },
     "execution_count": 25,
     "metadata": {},
     "output_type": "execute_result"
    }
   ],
   "source": [
    "target"
   ]
  },
  {
   "cell_type": "code",
   "execution_count": null,
   "id": "4997abb0-db02-4d1a-b8ba-936ff8bad0f9",
   "metadata": {},
   "outputs": [],
   "source": [
    "# Genetic algorithm"
   ]
  },
  {
   "cell_type": "code",
   "execution_count": 28,
   "id": "03c9f3d1-b918-48cc-a59f-08c8e1e5395d",
   "metadata": {
    "tags": []
   },
   "outputs": [],
   "source": [
    "X = data_rfe.values[:, :-1]\n",
    "y = data_rfe.values[:, -1]\n",
    "X_train, X_test, y_train, y_test=train_test_split(X, y, test_size=0.3, random_state=1)\n",
    "\n",
    "\n",
    "for i in range(X_train.shape[1]):\n",
    "    X_train[:, [i]] = preprocessing.MinMaxScaler().fit_transform(X_train[:, [i]])\n",
    "\n",
    "\n",
    "\n",
    "for i in range(X_test.shape[1]):\n",
    "    X_test[:, [i]] = preprocessing.MinMaxScaler().fit_transform(X_test[:, [i]])"
   ]
  },
  {
   "cell_type": "code",
   "execution_count": 29,
   "id": "f95496c2-f2a0-4ede-bc82-b45633937d64",
   "metadata": {
    "tags": []
   },
   "outputs": [],
   "source": [
    "feature_names = list(data_rfe.columns[:-1])"
   ]
  },
  {
   "cell_type": "code",
   "execution_count": 30,
   "id": "89ae6792-989c-4693-a919-0f92895dfa79",
   "metadata": {
    "tags": []
   },
   "outputs": [
    {
     "name": "stdout",
     "output_type": "stream",
     "text": [
      "    |   Population Average    |             Best Individual              |\n",
      "---- ------------------------- ------------------------------------------ ----------\n",
      " Gen   Length          Fitness   Length          Fitness      OOB Fitness  Time Left\n",
      "   0    10.64          1.31001       15         0.557108              N/A      1.13m\n",
      "   1     7.84         0.788978       18         0.557086              N/A      1.07m\n",
      "   2     8.08         0.781785       16         0.531671              N/A      1.13m\n",
      "   3     8.77         0.785747       15         0.475148              N/A      1.01m\n",
      "   4     9.68         0.804621       21         0.463424              N/A     51.78s\n",
      "   5    12.48         0.824423       29         0.441814              N/A     55.49s\n",
      "   6    16.51         0.865693       35         0.439904              N/A     56.00s\n",
      "   7    20.06         0.838049       39         0.435014              N/A     50.09s\n",
      "   8    21.67         0.813559       49         0.415036              N/A     39.01s\n",
      "   9    23.44         0.806517       49         0.415036              N/A     41.45s\n",
      "  10    24.55          0.80725       40          0.41395              N/A     40.62s\n",
      "  11    25.66         0.783153       39         0.406496              N/A     36.95s\n",
      "  12    25.47         0.784568       40          0.40349              N/A     28.54s\n",
      "  13    25.57         0.794798       40         0.398796              N/A     25.65s\n",
      "  14    25.55         0.779187       40         0.398796              N/A     22.36s\n",
      "  15    25.86         0.740811       38         0.397328              N/A     16.30s\n",
      "  16    28.09         0.726976       42         0.397328              N/A     13.63s\n",
      "  17    30.29         0.683353       42         0.397328              N/A      9.91s\n",
      "  18    30.85         0.645803       39         0.395803              N/A      4.83s\n",
      "  19    29.79         0.692019       41         0.393612              N/A      0.00s\n"
     ]
    },
    {
     "data": {
      "text/html": [
       "<style>#sk-container-id-1 {color: black;}#sk-container-id-1 pre{padding: 0;}#sk-container-id-1 div.sk-toggleable {background-color: white;}#sk-container-id-1 label.sk-toggleable__label {cursor: pointer;display: block;width: 100%;margin-bottom: 0;padding: 0.3em;box-sizing: border-box;text-align: center;}#sk-container-id-1 label.sk-toggleable__label-arrow:before {content: \"▸\";float: left;margin-right: 0.25em;color: #696969;}#sk-container-id-1 label.sk-toggleable__label-arrow:hover:before {color: black;}#sk-container-id-1 div.sk-estimator:hover label.sk-toggleable__label-arrow:before {color: black;}#sk-container-id-1 div.sk-toggleable__content {max-height: 0;max-width: 0;overflow: hidden;text-align: left;background-color: #f0f8ff;}#sk-container-id-1 div.sk-toggleable__content pre {margin: 0.2em;color: black;border-radius: 0.25em;background-color: #f0f8ff;}#sk-container-id-1 input.sk-toggleable__control:checked~div.sk-toggleable__content {max-height: 200px;max-width: 100%;overflow: auto;}#sk-container-id-1 input.sk-toggleable__control:checked~label.sk-toggleable__label-arrow:before {content: \"▾\";}#sk-container-id-1 div.sk-estimator input.sk-toggleable__control:checked~label.sk-toggleable__label {background-color: #d4ebff;}#sk-container-id-1 div.sk-label input.sk-toggleable__control:checked~label.sk-toggleable__label {background-color: #d4ebff;}#sk-container-id-1 input.sk-hidden--visually {border: 0;clip: rect(1px 1px 1px 1px);clip: rect(1px, 1px, 1px, 1px);height: 1px;margin: -1px;overflow: hidden;padding: 0;position: absolute;width: 1px;}#sk-container-id-1 div.sk-estimator {font-family: monospace;background-color: #f0f8ff;border: 1px dotted black;border-radius: 0.25em;box-sizing: border-box;margin-bottom: 0.5em;}#sk-container-id-1 div.sk-estimator:hover {background-color: #d4ebff;}#sk-container-id-1 div.sk-parallel-item::after {content: \"\";width: 100%;border-bottom: 1px solid gray;flex-grow: 1;}#sk-container-id-1 div.sk-label:hover label.sk-toggleable__label {background-color: #d4ebff;}#sk-container-id-1 div.sk-serial::before {content: \"\";position: absolute;border-left: 1px solid gray;box-sizing: border-box;top: 0;bottom: 0;left: 50%;z-index: 0;}#sk-container-id-1 div.sk-serial {display: flex;flex-direction: column;align-items: center;background-color: white;padding-right: 0.2em;padding-left: 0.2em;position: relative;}#sk-container-id-1 div.sk-item {position: relative;z-index: 1;}#sk-container-id-1 div.sk-parallel {display: flex;align-items: stretch;justify-content: center;background-color: white;position: relative;}#sk-container-id-1 div.sk-item::before, #sk-container-id-1 div.sk-parallel-item::before {content: \"\";position: absolute;border-left: 1px solid gray;box-sizing: border-box;top: 0;bottom: 0;left: 50%;z-index: -1;}#sk-container-id-1 div.sk-parallel-item {display: flex;flex-direction: column;z-index: 1;position: relative;background-color: white;}#sk-container-id-1 div.sk-parallel-item:first-child::after {align-self: flex-end;width: 50%;}#sk-container-id-1 div.sk-parallel-item:last-child::after {align-self: flex-start;width: 50%;}#sk-container-id-1 div.sk-parallel-item:only-child::after {width: 0;}#sk-container-id-1 div.sk-dashed-wrapped {border: 1px dashed gray;margin: 0 0.4em 0.5em 0.4em;box-sizing: border-box;padding-bottom: 0.4em;background-color: white;}#sk-container-id-1 div.sk-label label {font-family: monospace;font-weight: bold;display: inline-block;line-height: 1.2em;}#sk-container-id-1 div.sk-label-container {text-align: center;}#sk-container-id-1 div.sk-container {/* jupyter's `normalize.less` sets `[hidden] { display: none; }` but bootstrap.min.css set `[hidden] { display: none !important; }` so we also need the `!important` here to be able to override the default hidden behavior on the sphinx rendered scikit-learn.org. See: https://github.com/scikit-learn/scikit-learn/issues/21755 */display: inline-block !important;position: relative;}#sk-container-id-1 div.sk-text-repr-fallback {display: none;}</style><div id=\"sk-container-id-1\" class=\"sk-top-container\"><div class=\"sk-text-repr-fallback\"><pre>sub(sub(log(add(neg(sub(sqrt(0.218), tan(X4))), log(add(min(abs(X2), -0.765), sub(X4, X3))))), sin(add(inv(X1), cos(X4)))), sin(sin(div(sin(add(add(sub(0.853, X2), inv(X1)), cos(sub(X3, X4)))), X4))))</pre><b>In a Jupyter environment, please rerun this cell to show the HTML representation or trust the notebook. <br />On GitHub, the HTML representation is unable to render, please try loading this page with nbviewer.org.</b></div><div class=\"sk-container\" hidden><div class=\"sk-item\"><div class=\"sk-estimator sk-toggleable\"><input class=\"sk-toggleable__control sk-hidden--visually\" id=\"sk-estimator-id-1\" type=\"checkbox\" checked><label for=\"sk-estimator-id-1\" class=\"sk-toggleable__label sk-toggleable__label-arrow\">SymbolicClassifier</label><div class=\"sk-toggleable__content\"><pre>sub(sub(log(add(neg(sub(sqrt(0.218), tan(X4))), log(add(min(abs(X2), -0.765), sub(X4, X3))))), sin(add(inv(X1), cos(X4)))), sin(sin(div(sin(add(add(sub(0.853, X2), inv(X1)), cos(sub(X3, X4)))), X4))))</pre></div></div></div></div></div>"
      ],
      "text/plain": [
       "SymbolicClassifier(function_set=['add', 'sub', 'mul', 'div', 'sqrt', 'log',\n",
       "                                 'abs', 'neg', 'inv', 'max', 'min', 'sin',\n",
       "                                 'cos', 'tan'],\n",
       "                   population_size=5000, verbose=1)"
      ]
     },
     "execution_count": 30,
     "metadata": {},
     "output_type": "execute_result"
    }
   ],
   "source": [
    "# # 定义符号回归模型，并使用训练数据拟合模型\n",
    "# reg = SymbolicRegressor(population_size=5000, generations=100, verbose=1,\n",
    "#                          function_set=['add', 'sub', 'mul', 'div', 'sqrt', 'log', 'abs', 'neg', \n",
    "#                                        'inv', 'max', 'min', 'sin', 'cos', 'tan'],\n",
    "#                          metric='mean absolute error', stopping_criteria=0.001,\n",
    "#                          random_state=0)\n",
    "# reg.fit(X_train, y_train)\n",
    "\n",
    "# 创建符号分类器\n",
    "clf = SymbolicClassifier(population_size=5000, generations=20, tournament_size=20,\n",
    "                         stopping_criteria=0.0, const_range=(-1.0, 1.0), function_set=['add', 'sub', 'mul', 'div', 'sqrt', 'log', 'abs', 'neg', \n",
    "                                        'inv', 'max', 'min', 'sin', 'cos', 'tan'], verbose=1)\n",
    "clf.fit(X_train, y_train)"
   ]
  },
  {
   "cell_type": "code",
   "execution_count": 32,
   "id": "d94f34bd-8d08-4136-bb28-1a2f0a451fcb",
   "metadata": {
    "tags": []
   },
   "outputs": [
    {
     "name": "stdout",
     "output_type": "stream",
     "text": [
      "{'log(add(min(abs(X2),', 'sub(sub(log(add(neg(sub(sqrt(0.218),', 'X2),', 'X4))))', 'inv(X1)),', 'sin(sin(div(sin(add(add(sub(0.853,', 'sin(add(inv(X1),', 'cos(sub(X3,', 'tan(X4))),', 'X3))))),', 'cos(X4)))),', 'X4)))),', '-0.765),', 'sub(X4,'}\n"
     ]
    }
   ],
   "source": [
    "print(set(str(clf._program).split()))"
   ]
  },
  {
   "cell_type": "code",
   "execution_count": 33,
   "id": "31f62cbe-038e-449f-9975-8c0eb3906a35",
   "metadata": {
    "tags": []
   },
   "outputs": [
    {
     "name": "stdout",
     "output_type": "stream",
     "text": [
      "Confusion Matrix:\n",
      "[[128   8]\n",
      " [ 29  27]]\n"
     ]
    },
    {
     "data": {
      "image/png": "[encoded data removed]",
      "text/plain": [
       "<Figure size 640x480 with 2 Axes>"
      ]
     },
     "metadata": {},
     "output_type": "display_data"
    }
   ],
   "source": [
    "from sklearn.metrics import confusion_matrix, roc_curve, roc_auc_score\n",
    "import matplotlib.pyplot as plt\n",
    "\n",
    "# Prediction on test set\n",
    "y_pred = clf.predict(X_test)\n",
    "\n",
    "# Confusion matrix\n",
    "cm = confusion_matrix(y_test, y_pred)\n",
    "print(\"Confusion Matrix:\")\n",
    "print(cm)\n",
    "\n",
    "plt.imshow(cm, cmap=\"coolwarm\")\n",
    "plt.title(\"Confusion Matrix\")\n",
    "plt.colorbar()\n",
    "plt.xlabel(\"Predicted\")\n",
    "plt.ylabel(\"Actual\")\n",
    "plt.xticks(np.arange(len(set(y))), set(y))\n",
    "plt.yticks(np.arange(len(set(y))), set(y))\n",
    "\n",
    "# Adding text to the confusion matrix cells with larger font size\n",
    "for i in range(len(set(y))):\n",
    "    for j in range(len(set(y))):\n",
    "        plt.text(j, i, cm[i, j], ha='center', va='center', color='black', fontsize=14)\n",
    "plt.savefig('test.png')\n",
    "plt.show()"
   ]
  },
  {
   "cell_type": "code",
   "execution_count": 34,
   "id": "b916df2b-049b-425a-b936-484b83065892",
   "metadata": {
    "tags": []
   },
   "outputs": [
    {
     "name": "stdout",
     "output_type": "stream",
     "text": [
      "Confusion Matrix:\n",
      "[[292  17]\n",
      " [ 54  85]]\n"
     ]
    },
    {
     "data": {
      "image/png": "[encoded data removed]",
      "text/plain": [
       "<Figure size 640x480 with 2 Axes>"
      ]
     },
     "metadata": {},
     "output_type": "display_data"
    }
   ],
   "source": [
    "from sklearn.metrics import confusion_matrix, roc_curve, roc_auc_score\n",
    "import matplotlib.pyplot as plt\n",
    "\n",
    "# Prediction on test set\n",
    "y_pred = clf.predict(X_train)\n",
    "\n",
    "# Confusion matrix\n",
    "cm = confusion_matrix(y_train, y_pred)\n",
    "print(\"Confusion Matrix:\")\n",
    "print(cm)\n",
    "\n",
    "plt.imshow(cm, cmap=\"Blues\")\n",
    "plt.title(\"Confusion Matrix\")\n",
    "plt.colorbar()\n",
    "plt.xlabel(\"Predicted\")\n",
    "plt.ylabel(\"Actual\")\n",
    "plt.xticks(np.arange(len(set(y))), set(y))\n",
    "plt.yticks(np.arange(len(set(y))), set(y))\n",
    "\n",
    "# Adding text to the confusion matrix cells with larger font size\n",
    "for i in range(len(set(y))):\n",
    "    for j in range(len(set(y))):\n",
    "        plt.text(j, i, cm[i, j], ha='center', va='center', color='red', fontsize=14)\n",
    "plt.savefig('train.png')\n",
    "plt.show()"
   ]
  },
  {
   "cell_type": "code",
   "execution_count": 36,
   "id": "d1e6199e-076d-4baa-8ecd-262b8df08e2d",
   "metadata": {
    "tags": []
   },
   "outputs": [
    {
     "data": {
      "image/png": "[encoded data removed]",
      "text/plain": [
       "<Figure size 640x480 with 1 Axes>"
      ]
     },
     "metadata": {},
     "output_type": "display_data"
    },
    {
     "name": "stdout",
     "output_type": "stream",
     "text": [
      "Accuracy: 0.8072916666666666\n"
     ]
    }
   ],
   "source": [
    "# ROC Curve\n",
    "y_probs = clf.predict_proba(X_test)[:, 1]\n",
    "fpr, tpr, thresholds = roc_curve(y_test, y_probs)\n",
    "\n",
    "# Plotting ROC Curve\n",
    "plt.plot(fpr, tpr, label='ROC Curve')\n",
    "plt.plot([0, 1], [0, 1], 'k--', label='Random')\n",
    "plt.xlabel('False Positive Rate')\n",
    "plt.ylabel('True Positive Rate')\n",
    "plt.title('ROC Curve')\n",
    "plt.legend()\n",
    "plt.savefig('test_ROC.png')\n",
    "plt.show()\n",
    "\n",
    "# Accuracy\n",
    "accuracy = clf.score(X_test, y_test)\n",
    "print(\"Accuracy:\", accuracy)\n"
   ]
  },
  {
   "cell_type": "code",
   "execution_count": 37,
   "id": "fac26aa6-4260-47e9-a6e0-1e7941f958dd",
   "metadata": {
    "tags": []
   },
   "outputs": [
    {
     "data": {
      "image/png": "[encoded data removed]",
      "text/plain": [
       "<Figure size 640x480 with 1 Axes>"
      ]
     },
     "metadata": {},
     "output_type": "display_data"
    },
    {
     "name": "stdout",
     "output_type": "stream",
     "text": [
      "Accuracy: 0.8415178571428571\n"
     ]
    }
   ],
   "source": [
    "# ROC Curve\n",
    "y_probs = clf.predict_proba(X_train)[:, 1]\n",
    "fpr, tpr, thresholds = roc_curve(y_train, y_probs)\n",
    "\n",
    "# Plotting ROC Curve\n",
    "plt.plot(fpr, tpr, label='ROC Curve')\n",
    "plt.plot([0, 1], [0, 1], 'k--', label='Random')\n",
    "plt.xlabel('False Positive Rate')\n",
    "plt.ylabel('True Positive Rate')\n",
    "plt.title('ROC Curve')\n",
    "plt.legend()\n",
    "plt.savefig('train_ROC.png')\n",
    "plt.show()\n",
    "\n",
    "# Accuracy\n",
    "accuracy = clf.score(X_train, y_train)\n",
    "print(\"Accuracy:\", accuracy)\n"
   ]
  },
  {
   "cell_type": "code",
   "execution_count": null,
   "id": "6d785d4a-382f-41a6-a7f2-37b990e46359",
   "metadata": {},
   "outputs": [],
   "source": []
  }
 ],
 "metadata": {
  "kernelspec": {
   "display_name": "py37",
   "language": "python",
   "name": "py37"
  },
  "language_info": {
   "codemirror_mode": {
    "name": "ipython",
    "version": 3
   },
   "file_extension": ".py",
   "mimetype": "text/x-python",
   "name": "python",
   "nbconvert_exporter": "python",
   "pygments_lexer": "ipython3",
   "version": "3.11.5"
  }
 },
 "nbformat": 4,
 "nbformat_minor": 5
}
