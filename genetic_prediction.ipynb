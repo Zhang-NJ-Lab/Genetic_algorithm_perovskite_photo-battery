{
 "cells": [
  {
   "cell_type": "code",
   "execution_count": 2,
   "id": "55cb3554-e0fd-482f-9ca4-706c44a65e29",
   "metadata": {
    "tags": []
   },
   "outputs": [],
   "source": [
    "import pickle\n",
    "import pandas as pd\n",
    "import numpy as np\n",
    "import csv\n",
    "from sklearn import preprocessing"
   ]
  },
  {
   "cell_type": "code",
   "execution_count": 3,
   "id": "771f125c-fefc-49cd-aee3-2e2cbd879448",
   "metadata": {
    "tags": []
   },
   "outputs": [],
   "source": [
    "loaded_model = pickle.load(open(\"reg.dat\",\"rb\"))"
   ]
  },
  {
   "cell_type": "code",
   "execution_count": 4,
   "id": "120d8bcc-2b72-4629-86ab-368c0356e1ff",
   "metadata": {
    "tags": []
   },
   "outputs": [],
   "source": [
    "dataset= r'prediction_withoutLable.csv'\n",
    "data=pd.DataFrame(pd.read_csv(dataset))"
   ]
  },
  {
   "cell_type": "code",
   "execution_count": 5,
   "id": "65887056-3860-421e-a032-a5eca56014d2",
   "metadata": {
    "tags": []
   },
   "outputs": [],
   "source": [
    "# 检测空值\n",
    "null_values = np.where(data.isnull())"
   ]
  },
  {
   "cell_type": "code",
   "execution_count": 6,
   "id": "3064840b-211d-425d-8170-7cb872592eec",
   "metadata": {
    "tags": []
   },
   "outputs": [],
   "source": [
    "# # 打印空值位置\n",
    "# for row, col in zip(null_values[0], null_values[1]):\n",
    "#     print(f\"空值位于第 {row+1} 行，第 {col+1} 列\")"
   ]
  },
  {
   "cell_type": "code",
   "execution_count": 7,
   "id": "9d8859ef-03b9-49b0-996a-8adb17e081c6",
   "metadata": {
    "tags": []
   },
   "outputs": [],
   "source": [
    "X = data.values[:, :-1]\n",
    "for i in range(X.shape[1]):\n",
    "    X[:, [i]] = preprocessing.MinMaxScaler().fit_transform(X[:, [i]])"
   ]
  },
  {
   "cell_type": "code",
   "execution_count": 8,
   "id": "f947001e-7d45-4212-b1a9-12e83cb1f392",
   "metadata": {
    "tags": []
   },
   "outputs": [],
   "source": [
    "target=loaded_model.predict(X)"
   ]
  },
  {
   "cell_type": "code",
   "execution_count": 9,
   "id": "367c393a-5360-4f8c-a3a5-447922a005ad",
   "metadata": {
    "tags": []
   },
   "outputs": [
    {
     "name": "stdout",
     "output_type": "stream",
     "text": [
      "[0. 0. 0. ... 0. 0. 0.]\n"
     ]
    }
   ],
   "source": [
    "print(loaded_model.predict(X))"
   ]
  },
  {
   "cell_type": "code",
   "execution_count": 10,
   "id": "e4b20bd3-ae79-4bfc-9c6c-6e3d497d52a8",
   "metadata": {
    "tags": []
   },
   "outputs": [],
   "source": [
    "with open('target.csv', 'w', newline='') as file:\n",
    "    writer = csv.writer(file)\n",
    "    \n",
    "    # Write each element in the array as a new row in the CSV file\n",
    "    for element in target:\n",
    "        writer.writerow([element])"
   ]
  },
  {
   "cell_type": "code",
   "execution_count": 11,
   "id": "64d8a339-8dc0-43a7-85fe-a2aee881f9b4",
   "metadata": {
    "tags": []
   },
   "outputs": [
    {
     "name": "stdout",
     "output_type": "stream",
     "text": [
      "number_1_rows: 1806\n"
     ]
    }
   ],
   "source": [
    "# 读取文件\n",
    "with open('target.csv', 'r') as file:\n",
    "    lines = file.readlines()\n",
    "\n",
    "count_1 = 0\n",
    "# 统计含有1的行数\n",
    "for line in lines:\n",
    "    if '1' in line:\n",
    "        count_1 += 1\n",
    "\n",
    "print('number_1_rows:', count_1)"
   ]
  },
  {
   "cell_type": "code",
   "execution_count": null,
   "id": "0f5e8da8-0707-46a9-a804-02f982bb3c02",
   "metadata": {},
   "outputs": [],
   "source": []
  }
 ],
 "metadata": {
  "kernelspec": {
   "display_name": "py37",
   "language": "python",
   "name": "py37"
  },
  "language_info": {
   "codemirror_mode": {
    "name": "ipython",
    "version": 3
   },
   "file_extension": ".py",
   "mimetype": "text/x-python",
   "name": "python",
   "nbconvert_exporter": "python",
   "pygments_lexer": "ipython3",
   "version": "3.11.5"
  }
 },
 "nbformat": 4,
 "nbformat_minor": 5
}
